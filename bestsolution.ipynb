{
 "cells": [
  {
   "cell_type": "code",
   "execution_count": 1,
   "id": "85b08819",
   "metadata": {
    "execution": {
     "iopub.execute_input": "2022-11-19T19:23:24.847008Z",
     "iopub.status.busy": "2022-11-19T19:23:24.845840Z",
     "iopub.status.idle": "2022-11-19T19:23:24.848055Z",
     "shell.execute_reply": "2022-11-19T19:23:24.848592Z",
     "shell.execute_reply.started": "2022-11-19T00:27:54.671223Z"
    },
    "id": "ruge9L7siD8w",
    "outputId": "7e873d67-fceb-4192-dabf-671550417bd1",
    "papermill": {
     "duration": 0.047869,
     "end_time": "2022-11-19T19:23:24.848892",
     "exception": false,
     "start_time": "2022-11-19T19:23:24.801023",
     "status": "completed"
    },
    "tags": []
   },
   "outputs": [],
   "source": [
    "#!pip install transformers\n",
    "#!pip install sentencepiece\n",
    "#!pip install wrapt --upgrade --ignore-installed\n",
    "#!pip install tensorflow\n",
    "#!pip install pydot\n",
    "#!pip install pydotplus\n",
    "#!sudo apt-get install graphviz\n",
    "#!pip install keras\n",
    "#!pip install focal_loss"
   ]
  },
  {
   "cell_type": "code",
   "execution_count": 2,
   "id": "72b3c27f",
   "metadata": {
    "execution": {
     "iopub.execute_input": "2022-11-19T19:23:24.931649Z",
     "iopub.status.busy": "2022-11-19T19:23:24.930987Z",
     "iopub.status.idle": "2022-11-19T19:23:24.933666Z",
     "shell.execute_reply": "2022-11-19T19:23:24.934263Z",
     "shell.execute_reply.started": "2022-11-19T00:27:54.682055Z"
    },
    "id": "0ek-vaQfiD8y",
    "outputId": "11a22179-a92b-4527-aaba-2a30dd0e55c3",
    "papermill": {
     "duration": 0.044312,
     "end_time": "2022-11-19T19:23:24.934480",
     "exception": false,
     "start_time": "2022-11-19T19:23:24.890168",
     "status": "completed"
    },
    "tags": []
   },
   "outputs": [],
   "source": [
    "#from google.colab import drive\n",
    "#drive.mount('/content/drive')"
   ]
  },
  {
   "cell_type": "code",
   "execution_count": 3,
   "id": "6fa4d682",
   "metadata": {
    "execution": {
     "iopub.execute_input": "2022-11-19T19:23:25.016558Z",
     "iopub.status.busy": "2022-11-19T19:23:25.015884Z",
     "iopub.status.idle": "2022-11-19T19:23:25.019255Z",
     "shell.execute_reply": "2022-11-19T19:23:25.018722Z",
     "shell.execute_reply.started": "2022-11-19T00:27:54.693807Z"
    },
    "id": "AkHwpxk_iD8z",
    "papermill": {
     "duration": 0.044539,
     "end_time": "2022-11-19T19:23:25.019415",
     "exception": false,
     "start_time": "2022-11-19T19:23:24.974876",
     "status": "completed"
    },
    "tags": []
   },
   "outputs": [],
   "source": [
    "#import zipfile\n",
    "#with zipfile.ZipFile(\"./drive/MyDrive/HSE DS data/model2.zip\", \"r\") as zip_ref:\n",
    "#    zip_ref.extractall(\"./data\")"
   ]
  },
  {
   "cell_type": "code",
   "execution_count": 4,
   "id": "cda4e5a2",
   "metadata": {
    "execution": {
     "iopub.execute_input": "2022-11-19T19:23:25.105269Z",
     "iopub.status.busy": "2022-11-19T19:23:25.104075Z",
     "iopub.status.idle": "2022-11-19T19:23:31.232535Z",
     "shell.execute_reply": "2022-11-19T19:23:31.233094Z",
     "shell.execute_reply.started": "2022-11-19T00:27:54.706477Z"
    },
    "id": "Xdag0OPjiD80",
    "outputId": "ae1e6386-02f3-4ab5-9dd7-0f6f8ba9d214",
    "papermill": {
     "duration": 6.176453,
     "end_time": "2022-11-19T19:23:31.233294",
     "exception": false,
     "start_time": "2022-11-19T19:23:25.056841",
     "status": "completed"
    },
    "tags": []
   },
   "outputs": [
    {
     "name": "stderr",
     "output_type": "stream",
     "text": [
      "2022-11-19 19:23:25.865214: W tensorflow/stream_executor/platform/default/dso_loader.cc:60] Could not load dynamic library 'libcudart.so.11.0'; dlerror: libcudart.so.11.0: cannot open shared object file: No such file or directory; LD_LIBRARY_PATH: /opt/conda/lib\n",
      "2022-11-19 19:23:25.865329: I tensorflow/stream_executor/cuda/cudart_stub.cc:29] Ignore above cudart dlerror if you do not have a GPU set up on your machine.\n"
     ]
    },
    {
     "data": {
      "text/plain": [
       "'2.4.1'"
      ]
     },
     "execution_count": 4,
     "metadata": {},
     "output_type": "execute_result"
    }
   ],
   "source": [
    "import tensorflow as tf\n",
    "tf.__version__"
   ]
  },
  {
   "cell_type": "code",
   "execution_count": 5,
   "id": "a07697c2",
   "metadata": {
    "execution": {
     "iopub.execute_input": "2022-11-19T19:23:31.319222Z",
     "iopub.status.busy": "2022-11-19T19:23:31.318523Z",
     "iopub.status.idle": "2022-11-19T19:23:34.490539Z",
     "shell.execute_reply": "2022-11-19T19:23:34.489858Z",
     "shell.execute_reply.started": "2022-11-19T00:27:54.721020Z"
    },
    "id": "ZuLk70ceiD80",
    "papermill": {
     "duration": 3.218953,
     "end_time": "2022-11-19T19:23:34.490690",
     "exception": false,
     "start_time": "2022-11-19T19:23:31.271737",
     "status": "completed"
    },
    "tags": []
   },
   "outputs": [
    {
     "name": "stdout",
     "output_type": "stream",
     "text": [
      "4.5.1\n"
     ]
    }
   ],
   "source": [
    "import re\n",
    "import string\n",
    "import os\n",
    "import gc\n",
    "import numpy as np \n",
    "import pandas as pd\n",
    "from tqdm.notebook import tqdm # progress bar\n",
    "from sklearn.model_selection import train_test_split\n",
    "# from nltk.corpus import stopwords \n",
    "# from spacy.lang.da.stop_words import STOP_WORDS as da_stop\n",
    "# from spacy.lang.de.stop_words import STOP_WORDS as de_stop\n",
    "# from spacy.lang.es.stop_words import STOP_WORDS as es_stop\n",
    "# from spacy.lang.it.stop_words import STOP_WORDS as it_stop\n",
    "# from spacy.lang.nl.stop_words import STOP_WORDS as nl_stop\n",
    "import tensorflow_addons as tfa\n",
    "import tensorflow as tf\n",
    "from tensorflow.keras.layers import Dense, Input, Dropout\n",
    "from tensorflow.keras.optimizers import Adam\n",
    "from tensorflow_addons.optimizers import AdamW\n",
    "from tensorflow.keras.models import Model\n",
    "from tensorflow.keras.callbacks import ReduceLROnPlateau, EarlyStopping, ModelCheckpoint\n",
    "from tensorflow.keras.utils import model_to_dot\n",
    "\n",
    "import transformers\n",
    "from transformers import AutoTokenizer, TFAutoModel\n",
    "print (transformers.__version__)\n",
    "from IPython.display import SVG\n",
    "import seaborn as sns\n",
    "from matplotlib import pyplot as plt\n",
    "\n",
    "from sklearn.metrics import confusion_matrix, roc_auc_score, roc_curve, auc, classification_report\n",
    "from sklearn.preprocessing import LabelEncoder"
   ]
  },
  {
   "cell_type": "markdown",
   "id": "cc2f3abc",
   "metadata": {
    "id": "OFEjFOiOiD80",
    "papermill": {
     "duration": 0.038889,
     "end_time": "2022-11-19T19:23:34.569228",
     "exception": false,
     "start_time": "2022-11-19T19:23:34.530339",
     "status": "completed"
    },
    "tags": []
   },
   "source": [
    "#### TPU configuration"
   ]
  },
  {
   "cell_type": "code",
   "execution_count": 6,
   "id": "eef12e6f",
   "metadata": {
    "execution": {
     "iopub.execute_input": "2022-11-19T19:23:34.675012Z",
     "iopub.status.busy": "2022-11-19T19:23:34.674064Z",
     "iopub.status.idle": "2022-11-19T19:23:40.562756Z",
     "shell.execute_reply": "2022-11-19T19:23:40.562211Z",
     "shell.execute_reply.started": "2022-11-19T00:27:54.735084Z"
    },
    "id": "CwFVGHVniD81",
    "outputId": "2a82ba19-d658-4da3-c59e-0f0e2e3bb89d",
    "papermill": {
     "duration": 5.954919,
     "end_time": "2022-11-19T19:23:40.562916",
     "exception": false,
     "start_time": "2022-11-19T19:23:34.607997",
     "status": "completed"
    },
    "tags": []
   },
   "outputs": [
    {
     "name": "stdout",
     "output_type": "stream",
     "text": [
      "Running on TPU  ['10.0.0.2:8470']\n"
     ]
    },
    {
     "name": "stderr",
     "output_type": "stream",
     "text": [
      "2022-11-19 19:23:34.657464: I tensorflow/compiler/jit/xla_cpu_device.cc:41] Not creating XLA devices, tf_xla_enable_xla_devices not set\n",
      "2022-11-19 19:23:34.661405: W tensorflow/stream_executor/platform/default/dso_loader.cc:60] Could not load dynamic library 'libcuda.so.1'; dlerror: libcuda.so.1: cannot open shared object file: No such file or directory; LD_LIBRARY_PATH: /opt/conda/lib\n",
      "2022-11-19 19:23:34.661447: W tensorflow/stream_executor/cuda/cuda_driver.cc:326] failed call to cuInit: UNKNOWN ERROR (303)\n",
      "2022-11-19 19:23:34.661477: I tensorflow/stream_executor/cuda/cuda_diagnostics.cc:156] kernel driver does not appear to be running on this host (4b9c0068bf71): /proc/driver/nvidia/version does not exist\n",
      "2022-11-19 19:23:34.665375: I tensorflow/core/platform/cpu_feature_guard.cc:142] This TensorFlow binary is optimized with oneAPI Deep Neural Network Library (oneDNN) to use the following CPU instructions in performance-critical operations:  AVX2 FMA\n",
      "To enable them in other operations, rebuild TensorFlow with the appropriate compiler flags.\n",
      "2022-11-19 19:23:34.667104: I tensorflow/compiler/jit/xla_gpu_device.cc:99] Not creating XLA devices, tf_xla_enable_xla_devices not set\n",
      "2022-11-19 19:23:34.708139: I tensorflow/core/distributed_runtime/rpc/grpc_channel.cc:301] Initialize GrpcChannelCache for job worker -> {0 -> 10.0.0.2:8470}\n",
      "2022-11-19 19:23:34.708196: I tensorflow/core/distributed_runtime/rpc/grpc_channel.cc:301] Initialize GrpcChannelCache for job localhost -> {0 -> localhost:30019}\n",
      "2022-11-19 19:23:34.734181: I tensorflow/core/distributed_runtime/rpc/grpc_channel.cc:301] Initialize GrpcChannelCache for job worker -> {0 -> 10.0.0.2:8470}\n",
      "2022-11-19 19:23:34.734248: I tensorflow/core/distributed_runtime/rpc/grpc_channel.cc:301] Initialize GrpcChannelCache for job localhost -> {0 -> localhost:30019}\n",
      "2022-11-19 19:23:34.735948: I tensorflow/core/distributed_runtime/rpc/grpc_server_lib.cc:411] Started server with target: grpc://localhost:30019\n"
     ]
    },
    {
     "name": "stdout",
     "output_type": "stream",
     "text": [
      "REPLICAS:  8\n"
     ]
    }
   ],
   "source": [
    "# Detect hardware, return appropriate distribution strategy\n",
    "try:\n",
    "    tpu = tf.distribute.cluster_resolver.TPUClusterResolver()  # TPU detection\n",
    "    print('Running on TPU ', tpu.cluster_spec().as_dict()['worker'])\n",
    "except ValueError:\n",
    "    tpu = None\n",
    "\n",
    "if tpu:\n",
    "    tf.config.experimental_connect_to_cluster(tpu)\n",
    "    tf.tpu.experimental.initialize_tpu_system(tpu)\n",
    "#     strategy = tf.distribute.experimental.TPUStrategy(tpu)  #asa era original\n",
    "    strategy = tf.distribute.TPUStrategy(tpu)\n",
    "else:\n",
    "    # Default distribution strategy in Tensorflow. Works on CPU and single GPU.\n",
    "    strategy = tf.distribute.get_strategy() #asa era default\n",
    "#     strategy=tf.distribute.MirroredStrategy() #pentru mai multe gpu\n",
    "\n",
    "print(\"REPLICAS: \", strategy.num_replicas_in_sync)"
   ]
  },
  {
   "cell_type": "markdown",
   "id": "d3c5e868",
   "metadata": {
    "papermill": {
     "duration": 0.038544,
     "end_time": "2022-11-19T19:23:40.640749",
     "exception": false,
     "start_time": "2022-11-19T19:23:40.602205",
     "status": "completed"
    },
    "tags": []
   },
   "source": [
    "#### Load data"
   ]
  },
  {
   "cell_type": "markdown",
   "id": "ff3acb7c",
   "metadata": {
    "papermill": {
     "duration": 0.0395,
     "end_time": "2022-11-19T19:23:40.719159",
     "exception": false,
     "start_time": "2022-11-19T19:23:40.679659",
     "status": "completed"
    },
    "tags": []
   },
   "source": [
    "Clean text from https://tazkianida.medium.com/natural-language-processing-find-the-most-common-phrases-on-twitter-1bd17f1941cf"
   ]
  },
  {
   "cell_type": "markdown",
   "id": "273cf879",
   "metadata": {
    "papermill": {
     "duration": 0.038814,
     "end_time": "2022-11-19T19:23:40.796982",
     "exception": false,
     "start_time": "2022-11-19T19:23:40.758168",
     "status": "completed"
    },
    "tags": []
   },
   "source": [
    "# Partea de clean text mutata"
   ]
  },
  {
   "cell_type": "code",
   "execution_count": 7,
   "id": "5d4ec8a1",
   "metadata": {
    "execution": {
     "iopub.execute_input": "2022-11-19T19:23:40.881785Z",
     "iopub.status.busy": "2022-11-19T19:23:40.880656Z",
     "iopub.status.idle": "2022-11-19T19:23:40.883621Z",
     "shell.execute_reply": "2022-11-19T19:23:40.883078Z",
     "shell.execute_reply.started": "2022-11-19T00:27:54.754401Z"
    },
    "papermill": {
     "duration": 0.046955,
     "end_time": "2022-11-19T19:23:40.883827",
     "exception": false,
     "start_time": "2022-11-19T19:23:40.836872",
     "status": "completed"
    },
    "tags": []
   },
   "outputs": [],
   "source": [
    "# def clean_text_med(data):\n",
    "#     #remove user, https, and RT\n",
    "#     data['Text'] = np.vectorize(remove_pattern)(data['text'], \"(https?:\\/\\/)?([\\da-z\\.-]+)\\.([a-z\\.]{2,6})([\\/\\w \\.-]*)\")\n",
    "#     #remove punctuations\n",
    "#     data['Text'] = data['Text'].str.replace(\"[^a-zA-Z#]\", \" \")\n",
    "#     #lowering string\n",
    "#     data['Text'] = data['Text'].str.lower()\n",
    "#     #remove stop words\n",
    "#     stop_words = set(stopwords.words('dansk')) |set(stopwords.words('Deutsch'))|set(stopwords.words('español'))|set(stopwords.words('italiano'))|set(stopwords.words('Nederlands'))\n",
    "#     data['Text'] = [' '.join([w for w in x.lower().split() if w not in stop_words]) \n",
    "#     for x in data['Text'].tolist()]\n",
    "#     #remove words with len < 2\n",
    "#     data['Text'] = data['Text'].apply(lambda x: ' '.join([w for w in x.split() if len(w)>2]))"
   ]
  },
  {
   "cell_type": "markdown",
   "id": "16868b37",
   "metadata": {
    "papermill": {
     "duration": 0.040925,
     "end_time": "2022-11-19T19:23:40.965116",
     "exception": false,
     "start_time": "2022-11-19T19:23:40.924191",
     "status": "completed"
    },
    "tags": []
   },
   "source": [
    "Clean text"
   ]
  },
  {
   "cell_type": "code",
   "execution_count": 8,
   "id": "c65d60a3",
   "metadata": {
    "execution": {
     "iopub.execute_input": "2022-11-19T19:23:41.053638Z",
     "iopub.status.busy": "2022-11-19T19:23:41.052785Z",
     "iopub.status.idle": "2022-11-19T19:23:41.055594Z",
     "shell.execute_reply": "2022-11-19T19:23:41.055084Z",
     "shell.execute_reply.started": "2022-11-19T00:27:54.805597Z"
    },
    "papermill": {
     "duration": 0.050452,
     "end_time": "2022-11-19T19:23:41.055835",
     "exception": false,
     "start_time": "2022-11-19T19:23:41.005383",
     "status": "completed"
    },
    "tags": []
   },
   "outputs": [],
   "source": [
    "def clean_text(text,sw):\n",
    "    # to lower case\n",
    "    text = text.lower()\n",
    "    # remove links\n",
    "    text = re.sub('https?:\\/\\/\\S+', '', text)\n",
    "#     text = re.sub('(https?:\\/\\/)?([\\da-z\\.-]+)\\.([a-z\\.]{2,6})([\\/\\w \\.-]*)+', '', text) #matches other \n",
    "    #special for iloc[32827]\n",
    "    text = text.replace('\\\\t', '')\n",
    "    text = text.replace('_blank', '')\n",
    "    # remove punctuation\n",
    "    text = re.sub('[%s]' % re.escape(string.punctuation), '', text) \n",
    "    # remove next line     \n",
    "    text = re.sub(r'[^ \\w\\.]', '', text) \n",
    "    # remove words containing numbers\n",
    "    text = re.sub('\\w*\\d\\w*', '', text) #maybe not? la laborator - poate au sens?\n",
    "    #remove stopwords from nltk\n",
    "    words = [word for word in text.split() if word.lower() not in sw]\n",
    "    text=\" \".join(words)\n",
    "    \n",
    "    return text"
   ]
  },
  {
   "cell_type": "code",
   "execution_count": 9,
   "id": "9188e9ab",
   "metadata": {
    "execution": {
     "iopub.execute_input": "2022-11-19T19:23:41.140896Z",
     "iopub.status.busy": "2022-11-19T19:23:41.137691Z",
     "iopub.status.idle": "2022-11-19T19:23:41.143377Z",
     "shell.execute_reply": "2022-11-19T19:23:41.142749Z",
     "shell.execute_reply.started": "2022-11-19T00:27:54.816796Z"
    },
    "papermill": {
     "duration": 0.047606,
     "end_time": "2022-11-19T19:23:41.143530",
     "exception": false,
     "start_time": "2022-11-19T19:23:41.095924",
     "status": "completed"
    },
    "tags": []
   },
   "outputs": [],
   "source": [
    "def clean_text_tran(text):\n",
    "    # to lower case\n",
    "#     text = text.lower()\n",
    "    # remove links\n",
    "    text = re.sub('https?:\\/\\/\\S+', '', text)\n",
    "#     text = re.sub('(https?:\\/\\/)?([\\da-z\\.-]+)\\.([a-z\\.]{2,6})([\\/\\w \\.-]*)+', '', text) #matches other \n",
    "    #special for iloc[32827]\n",
    "    text = text.replace('\\\\t', '')\n",
    "    text = text.replace('_blank', '')\n",
    "    # remove punctuation\n",
    "#     text = re.sub('[%s]' % re.escape(string.punctuation), '', text) \n",
    "    # remove next line     \n",
    "    text = re.sub(r'[^ \\w\\.]', '', text) \n",
    "    # remove words containing numbers\n",
    "#     text = re.sub('\\w*\\d\\w*', '', text) #maybe not? la laborator - poate au sens?\n",
    "    #remove stopwords from nltk\n",
    "#     words = [word for word in text.split() if word.lower() not in sw]\n",
    "#     text=\" \".join(words)\n",
    "    \n",
    "    return text"
   ]
  },
  {
   "cell_type": "code",
   "execution_count": 10,
   "id": "26d4907c",
   "metadata": {
    "execution": {
     "iopub.execute_input": "2022-11-19T19:23:41.227003Z",
     "iopub.status.busy": "2022-11-19T19:23:41.225998Z",
     "iopub.status.idle": "2022-11-19T19:23:41.228780Z",
     "shell.execute_reply": "2022-11-19T19:23:41.228140Z",
     "shell.execute_reply.started": "2022-11-19T00:27:54.829731Z"
    },
    "papermill": {
     "duration": 0.046412,
     "end_time": "2022-11-19T19:23:41.228926",
     "exception": false,
     "start_time": "2022-11-19T19:23:41.182514",
     "status": "completed"
    },
    "tags": []
   },
   "outputs": [],
   "source": [
    "# import sys\n",
    "# from io import StringIO\n",
    "# import pandas as pd\n",
    "\n",
    "\n",
    "# old_stderr = sys.stderr\n",
    "# result = StringIO()\n",
    "# sys.stderr = result\n",
    "\n",
    "# df = pd.read_csv('../input/datasettranswmicrosoft/german.csv', error_bad_lines=False,index_col=0)\n",
    "\n",
    "# sys.stderr = old_stderr\n",
    "# result_string = result.getvalue()\n",
    "# print(result_string)\n",
    "# with open('bad_lines.csv', 'w') as bad_lines:\n",
    "#     for line in result_string.split(r'\\n'):\n",
    "#         bad_lines.write(line)\n",
    "#         bad_lines.write('\\n')\n",
    "# print('OK')"
   ]
  },
  {
   "cell_type": "code",
   "execution_count": 11,
   "id": "87e3a646",
   "metadata": {
    "execution": {
     "iopub.execute_input": "2022-11-19T19:23:41.312210Z",
     "iopub.status.busy": "2022-11-19T19:23:41.311544Z",
     "iopub.status.idle": "2022-11-19T19:23:42.954378Z",
     "shell.execute_reply": "2022-11-19T19:23:42.953645Z",
     "shell.execute_reply.started": "2022-11-19T00:27:54.845107Z"
    },
    "papermill": {
     "duration": 1.68665,
     "end_time": "2022-11-19T19:23:42.954530",
     "exception": false,
     "start_time": "2022-11-19T19:23:41.267880",
     "status": "completed"
    },
    "tags": []
   },
   "outputs": [],
   "source": [
    "train_df_unspl = pd.read_csv(\"../input/unibuccomptranslated/translated_train_data.csv\",quotechar=\"^\",index_col=\"id_ref\")"
   ]
  },
  {
   "cell_type": "code",
   "execution_count": 12,
   "id": "3cf3bfb0",
   "metadata": {
    "execution": {
     "iopub.execute_input": "2022-11-19T19:23:43.048438Z",
     "iopub.status.busy": "2022-11-19T19:23:43.046609Z",
     "iopub.status.idle": "2022-11-19T19:23:43.651646Z",
     "shell.execute_reply": "2022-11-19T19:23:43.651051Z",
     "shell.execute_reply.started": "2022-11-19T00:27:55.608424Z"
    },
    "id": "e-RV6S4ViD82",
    "papermill": {
     "duration": 0.657763,
     "end_time": "2022-11-19T19:23:43.651819",
     "exception": false,
     "start_time": "2022-11-19T19:23:42.994056",
     "status": "completed"
    },
    "tags": []
   },
   "outputs": [
    {
     "name": "stdout",
     "output_type": "stream",
     "text": [
      "['England' 'Ireland' 'Scotland']\n",
      "0    3405\n",
      "1    1580\n",
      "2    1251\n",
      "Name: Label, dtype: int64\n"
     ]
    },
    {
     "data": {
      "text/html": [
       "<div>\n",
       "<style scoped>\n",
       "    .dataframe tbody tr th:only-of-type {\n",
       "        vertical-align: middle;\n",
       "    }\n",
       "\n",
       "    .dataframe tbody tr th {\n",
       "        vertical-align: top;\n",
       "    }\n",
       "\n",
       "    .dataframe thead th {\n",
       "        text-align: right;\n",
       "    }\n",
       "</style>\n",
       "<table border=\"1\" class=\"dataframe\">\n",
       "  <thead>\n",
       "    <tr style=\"text-align: right;\">\n",
       "      <th></th>\n",
       "      <th>Translated</th>\n",
       "      <th>Label</th>\n",
       "    </tr>\n",
       "    <tr>\n",
       "      <th>id_ref</th>\n",
       "      <th></th>\n",
       "      <th></th>\n",
       "    </tr>\n",
       "  </thead>\n",
       "  <tbody>\n",
       "    <tr>\n",
       "      <th>0</th>\n",
       "      <td>This is an excellent initiative and I fully su...</td>\n",
       "      <td>1</td>\n",
       "    </tr>\n",
       "    <tr>\n",
       "      <th>1</th>\n",
       "      <td>Mr President, I am sure everyone here is aware...</td>\n",
       "      <td>1</td>\n",
       "    </tr>\n",
       "    <tr>\n",
       "      <th>2</th>\n",
       "      <td>Mr President, people in the northern hemispher...</td>\n",
       "      <td>0</td>\n",
       "    </tr>\n",
       "    <tr>\n",
       "      <th>3</th>\n",
       "      <td>Mr President, subject to a few amendments, my ...</td>\n",
       "      <td>0</td>\n",
       "    </tr>\n",
       "    <tr>\n",
       "      <th>4</th>\n",
       "      <td>Mr President, I must protest at the laxity wit...</td>\n",
       "      <td>0</td>\n",
       "    </tr>\n",
       "  </tbody>\n",
       "</table>\n",
       "</div>"
      ],
      "text/plain": [
       "                                               Translated  Label\n",
       "id_ref                                                          \n",
       "0       This is an excellent initiative and I fully su...      1\n",
       "1       Mr President, I am sure everyone here is aware...      1\n",
       "2       Mr President, people in the northern hemispher...      0\n",
       "3       Mr President, subject to a few amendments, my ...      0\n",
       "4       Mr President, I must protest at the laxity wit...      0"
      ]
     },
     "execution_count": 12,
     "metadata": {},
     "output_type": "execute_result"
    }
   ],
   "source": [
    "# train_df, validation_df = train_test_split(train_df_unspl, test_size=0.2, random_state=42, stratify=train_df_unspl[\"language\"])\n",
    "# train_df[\"label\"].loc[train_df[\"label\"]==\"England\"]=0\n",
    "# train_df[\"label\"].loc[train_df[\"label\"]==\"Ireland\"]=1\n",
    "# train_df[\"label\"].loc[train_df[\"label\"]==\"Scotland\"]=2\n",
    "# validation_df[\"label\"].loc[validation_df[\"label\"]==\"England\"]=0\n",
    "# validation_df[\"label\"].loc[validation_df[\"label\"]==\"Ireland\"]=1\n",
    "# validation_df[\"label\"].loc[validation_df[\"label\"]==\"Scotland\"]=2\n",
    "# train_df.drop(columns=\"language\")\n",
    "# validation_df.drop(columns=\"language\")\n",
    "# stop_words_plus = stopwords.words('danish')+stopwords.words('german')+stopwords.words('spanish')+stopwords.words('italian')+stopwords.words('dutch')\n",
    "# stop_words=stopwords.words(fileids=('danish', 'german','spanish','italian','dutch'))+list(da_stop)+list(de_stop)+list(es_stop)+list(it_stop)+list(nl_stop)\n",
    "# stop_words=stopwords.words(fileids=('danish', 'german','spanish','italian','dutch'))\n",
    "# print(len(stop_words)==len(stopwords.words(fileids=('danish', 'german','spanish','italian','dutch')))+len(list(da_stop))+len(list(de_stop))+len(list(es_stop))+len(list(it_stop))+len(list(nl_stop)))\n",
    "# stop_words = set(stopwords.words('danish')) |set(stopwords.words('german'))|set(stopwords.words('spanish'))|set(stopwords.words('italian'))|set(stopwords.words('dutch'))\n",
    "# print(len(set(stopwords.words('danish')))+len(set(stopwords.words('german')))+len(set(stopwords.words('spanish')))+len(set(stopwords.words('italian')))+len(set(stopwords.words('dutch'))))\n",
    "# print(\"fileids\",len(stop_words))\n",
    "# print(\"plus\",len(stop_words_plus))\n",
    "# print(len(stop_words_plus)==len(stop_words))\n",
    "# print(len(stop_words)==len(set(stopwords.words('danish')))+len(set(stopwords.words('german')))+len(set(stopwords.words('spanish')))+len(set(stopwords.words('italian')))+len(set(stopwords.words('dutch'))))\n",
    "# train_df_unspl['Text'] = train_df_unspl.text.apply(lambda x: clean_text_tran(x))\n",
    "# clean_text_med(train_df_unspl)\n",
    "le = LabelEncoder()\n",
    "le.fit(train_df_unspl.label.values.tolist())\n",
    "print(le.classes_)\n",
    "target_num = le.transform(train_df_unspl.label.values.tolist())\n",
    "train_df_unspl['Label']=target_num\n",
    "# train_df_unspl=train_df_unspl.drop(columns=[\"language\",\"text\",\"label\"])\n",
    "train_df_unspl=train_df_unspl.drop(columns=[\"label\"])\n",
    "train_df_unspl=train_df_unspl.dropna()\n",
    "# train_df, validation_df = train_test_split(train_df_unspl, test_size=0.025, random_state=42) # test_size foarte mic\n",
    "# train_df, validation_df = train_test_split(train_df_unspl, test_size=0.025, random_state=42, stratify=train_df_unspl[\"Label\"]) # asa am facut stratificarea pana acum???? for some reason da mai bine stratificat dupa Label\n",
    "train_df, validation_df = train_test_split(train_df_unspl, test_size=0.15, random_state=42, stratify=train_df_unspl[\"Label\"]) #da prost mai prost stratificat dupa langauge??\n",
    "train_df_unspl=train_df_unspl.drop(columns=[\"language\"])\n",
    "train_df=train_df.drop(columns=[\"language\"])\n",
    "print(validation_df.Label.value_counts())\n",
    "validation_df=validation_df.drop(columns=[\"language\"])\n",
    "y_confusionmat=validation_df.Label\n",
    "test_df = pd.read_csv(\"../input/unibuccomptranslated/clean_test_fixed.csv\",quotechar=\"^\",index_col=\"id_ref\")\n",
    "# test_df['Text']=test_df.text.apply(lambda x: clean_text_tran(x))\n",
    "# test_df=test_df.drop(columns=[\"text\"])\n",
    "train_df_unspl.head()"
   ]
  },
  {
   "cell_type": "code",
   "execution_count": 13,
   "id": "f4dba088",
   "metadata": {
    "execution": {
     "iopub.execute_input": "2022-11-19T19:23:43.737185Z",
     "iopub.status.busy": "2022-11-19T19:23:43.734984Z",
     "iopub.status.idle": "2022-11-19T19:23:43.739413Z",
     "shell.execute_reply": "2022-11-19T19:23:43.739987Z",
     "shell.execute_reply.started": "2022-11-19T00:27:55.942264Z"
    },
    "papermill": {
     "duration": 0.048034,
     "end_time": "2022-11-19T19:23:43.740171",
     "exception": false,
     "start_time": "2022-11-19T19:23:43.692137",
     "status": "completed"
    },
    "tags": []
   },
   "outputs": [],
   "source": [
    "# train_df_unspl = pd.read_csv(\"../input/compdataset/formatted_train_data.csv\")\n",
    "# le = LabelEncoder()\n",
    "# le.fit(train_df_unspl.label.values.tolist())\n",
    "# target_num = le.transform(train_df_unspl.label.values.tolist())\n",
    "# train_df_unspl['Label']=target_num\n",
    "# # train_df_unspl=train_df_unspl.drop(columns=[\"language\",\"label\"])\n",
    "# train_df_unspl=train_df_unspl.drop(columns=[\"label\"])\n",
    "# # train_df, validation_df = train_test_split(train_df_unspl, test_size=0.025, random_state=42) # test_size foarte mic\n",
    "# # train_df, validation_df = train_test_split(train_df_unspl, test_size=0.025, random_state=42, stratify=train_df_unspl[\"Label\"]) # asa am facut stratificarea pana acum???? for some reason da mai bine stratificat dupa Label\n",
    "# train_df, validation_df = train_test_split(train_df_unspl, test_size=0.025, random_state=42, stratify=train_df_unspl[\"language\"]) #da prost???\n",
    "# print(validation_df.language.value_counts())\n",
    "# print(train_df.language.value_counts())\n",
    "# train_df_unspl=train_df_unspl.drop(columns=[\"language\"])\n",
    "# train_df=train_df.drop(columns=[\"language\"])\n",
    "# validation_df=validation_df.drop(columns=[\"language\"])\n",
    "\n",
    "# test_df = pd.read_csv(\"../input/ub-fmi-cti-2022-2023/test_data.csv\")"
   ]
  },
  {
   "cell_type": "code",
   "execution_count": 14,
   "id": "19073716",
   "metadata": {
    "execution": {
     "iopub.execute_input": "2022-11-19T19:23:43.824303Z",
     "iopub.status.busy": "2022-11-19T19:23:43.823470Z",
     "iopub.status.idle": "2022-11-19T19:23:43.860890Z",
     "shell.execute_reply": "2022-11-19T19:23:43.861636Z",
     "shell.execute_reply.started": "2022-11-19T00:27:55.949544Z"
    },
    "id": "xUbrhrdODzba",
    "papermill": {
     "duration": 0.081903,
     "end_time": "2022-11-19T19:23:43.862094",
     "exception": false,
     "start_time": "2022-11-19T19:23:43.780191",
     "status": "completed"
    },
    "tags": []
   },
   "outputs": [
    {
     "name": "stdout",
     "output_type": "stream",
     "text": [
      "Train size 35332\n",
      "Validation size 6236\n",
      "[0 1 2]\n",
      "0    3405\n",
      "1    1580\n",
      "2    1251\n",
      "Name: Label, dtype: int64\n",
      "Imagine if another legislative body in the European Union first took decisions, then offered to publish the minutes and a concise report of the discussion on an internet site. Do you not agree that people would find this an undemocratic and questionable procedure? Is it not time, then, for the Council to finally deliberate in public when it acts as legislator? I am glad that progress has been made, but I still believe that it is completely unacceptable that legislation is still being made in this way in the 21st century.\n"
     ]
    },
    {
     "data": {
      "text/html": [
       "<div>\n",
       "<style scoped>\n",
       "    .dataframe tbody tr th:only-of-type {\n",
       "        vertical-align: middle;\n",
       "    }\n",
       "\n",
       "    .dataframe tbody tr th {\n",
       "        vertical-align: top;\n",
       "    }\n",
       "\n",
       "    .dataframe thead th {\n",
       "        text-align: right;\n",
       "    }\n",
       "</style>\n",
       "<table border=\"1\" class=\"dataframe\">\n",
       "  <thead>\n",
       "    <tr style=\"text-align: right;\">\n",
       "      <th></th>\n",
       "      <th>Text</th>\n",
       "    </tr>\n",
       "    <tr>\n",
       "      <th>id_ref</th>\n",
       "      <th></th>\n",
       "    </tr>\n",
       "  </thead>\n",
       "  <tbody>\n",
       "    <tr>\n",
       "      <th>0</th>\n",
       "      <td>Mr President, although we very much sympathise...</td>\n",
       "    </tr>\n",
       "    <tr>\n",
       "      <th>1</th>\n",
       "      <td>I would like to place on record my support for...</td>\n",
       "    </tr>\n",
       "    <tr>\n",
       "      <th>2</th>\n",
       "      <td>.  The illegal trade in human kidneys has beco...</td>\n",
       "    </tr>\n",
       "    <tr>\n",
       "      <th>3</th>\n",
       "      <td>Mr President, to introduce a note of joy into ...</td>\n",
       "    </tr>\n",
       "    <tr>\n",
       "      <th>4</th>\n",
       "      <td>I voted in favour of granting discharge to the...</td>\n",
       "    </tr>\n",
       "  </tbody>\n",
       "</table>\n",
       "</div>"
      ],
      "text/plain": [
       "                                                     Text\n",
       "id_ref                                                   \n",
       "0       Mr President, although we very much sympathise...\n",
       "1       I would like to place on record my support for...\n",
       "2       .  The illegal trade in human kidneys has beco...\n",
       "3       Mr President, to introduce a note of joy into ...\n",
       "4       I voted in favour of granting discharge to the..."
      ]
     },
     "execution_count": 14,
     "metadata": {},
     "output_type": "execute_result"
    }
   ],
   "source": [
    "submission = pd.read_csv(\"../input/ub-fmi-cti-2022-2023/sample_submission.csv\")\n",
    "len(set(train_df.Label.values))\n",
    "print(\"Train size\",len(train_df))\n",
    "print(\"Validation size\",len(validation_df))\n",
    "print(validation_df.Label.unique())\n",
    "print(validation_df.Label.value_counts())\n",
    "# print(validation_df.language.value_counts())\n",
    "# print(da_stop)\n",
    "# print(stopwords.words('danish'))\n",
    "print(train_df_unspl.loc[41569].Translated)\n",
    "test_df.head()"
   ]
  },
  {
   "cell_type": "markdown",
   "id": "9432135d",
   "metadata": {
    "id": "fzSdDodQiD83",
    "papermill": {
     "duration": 0.040394,
     "end_time": "2022-11-19T19:23:43.943550",
     "exception": false,
     "start_time": "2022-11-19T19:23:43.903156",
     "status": "completed"
    },
    "tags": []
   },
   "source": [
    "### XLM-RoBERTa model"
   ]
  },
  {
   "cell_type": "code",
   "execution_count": 15,
   "id": "7309adde",
   "metadata": {
    "execution": {
     "iopub.execute_input": "2022-11-19T19:23:44.028805Z",
     "iopub.status.busy": "2022-11-19T19:23:44.028092Z",
     "iopub.status.idle": "2022-11-19T19:23:44.034940Z",
     "shell.execute_reply": "2022-11-19T19:23:44.033808Z",
     "shell.execute_reply.started": "2022-11-19T00:27:55.985533Z"
    },
    "id": "tVEmP7CiiD83",
    "outputId": "178ca76e-b404-4f97-f553-5818c7c39906",
    "papermill": {
     "duration": 0.050948,
     "end_time": "2022-11-19T19:23:44.035102",
     "exception": false,
     "start_time": "2022-11-19T19:23:43.984154",
     "status": "completed"
    },
    "tags": []
   },
   "outputs": [
    {
     "name": "stdout",
     "output_type": "stream",
     "text": [
      "128\n"
     ]
    }
   ],
   "source": [
    "XLMR_MODEL = \"roberta-large\"\n",
    "# XLMR_MODEL = \"jplu/tf-xlm-roberta-large\"\n",
    "# XLMR_MODEL = \"jplu/tf-xlm-roberta-base\"\n",
    "# EPOCHS = 16 #number of epochs in model experimental pentru large, dupa clean test data\n",
    "# EPOCHS = 19 #number of epochs in model experimental pentru large, la a doua vedere epoca 18 cea mai buna\n",
    "# EPOCHS = 1 #number of epochs in model default\n",
    "EPOCHS = 50 #number of epochs in model pentru auto stop\n",
    "\n",
    "MAX_LEN = 512\n",
    "\n",
    "SHUFFLE = 2048\n",
    "\n",
    "LEARNING_RATE = 1e-5\n",
    "\n",
    "AUTO = tf.data.experimental.AUTOTUNE\n",
    "\n",
    "# batch size will depend on number of replicas\n",
    "BATCH_SIZE = 16 * strategy.num_replicas_in_sync # the batch size in each epoch (128)\n",
    "print(BATCH_SIZE)"
   ]
  },
  {
   "cell_type": "markdown",
   "id": "3d3542d3",
   "metadata": {
    "id": "qYN3RtfeiD84",
    "papermill": {
     "duration": 0.04134,
     "end_time": "2022-11-19T19:23:44.118260",
     "exception": false,
     "start_time": "2022-11-19T19:23:44.076920",
     "status": "completed"
    },
    "tags": []
   },
   "source": [
    "#### Load XLM-RoBERTa from Hugging Face"
   ]
  },
  {
   "cell_type": "code",
   "execution_count": 16,
   "id": "4ac54975",
   "metadata": {
    "execution": {
     "iopub.execute_input": "2022-11-19T19:23:44.210645Z",
     "iopub.status.busy": "2022-11-19T19:23:44.209963Z",
     "iopub.status.idle": "2022-11-19T19:23:46.801631Z",
     "shell.execute_reply": "2022-11-19T19:23:46.802214Z",
     "shell.execute_reply.started": "2022-11-19T00:27:55.994822Z"
    },
    "id": "Ce12xbeYiD84",
    "papermill": {
     "duration": 2.643198,
     "end_time": "2022-11-19T19:23:46.802398",
     "exception": false,
     "start_time": "2022-11-19T19:23:44.159200",
     "status": "completed"
    },
    "tags": []
   },
   "outputs": [
    {
     "data": {
      "application/vnd.jupyter.widget-view+json": {
       "model_id": "ae415eeef4194f9eba46767c9e357ec7",
       "version_major": 2,
       "version_minor": 0
      },
      "text/plain": [
       "Downloading:   0%|          | 0.00/482 [00:00<?, ?B/s]"
      ]
     },
     "metadata": {},
     "output_type": "display_data"
    },
    {
     "data": {
      "application/vnd.jupyter.widget-view+json": {
       "model_id": "8107d43c772f42a89d74e25bdd6fde9b",
       "version_major": 2,
       "version_minor": 0
      },
      "text/plain": [
       "Downloading:   0%|          | 0.00/899k [00:00<?, ?B/s]"
      ]
     },
     "metadata": {},
     "output_type": "display_data"
    },
    {
     "data": {
      "application/vnd.jupyter.widget-view+json": {
       "model_id": "fa147e81762e44e0b23c5ed9a6fba8dd",
       "version_major": 2,
       "version_minor": 0
      },
      "text/plain": [
       "Downloading:   0%|          | 0.00/456k [00:00<?, ?B/s]"
      ]
     },
     "metadata": {},
     "output_type": "display_data"
    },
    {
     "data": {
      "application/vnd.jupyter.widget-view+json": {
       "model_id": "884a06f346ec464dbcc121c1ce7209d7",
       "version_major": 2,
       "version_minor": 0
      },
      "text/plain": [
       "Downloading:   0%|          | 0.00/1.36M [00:00<?, ?B/s]"
      ]
     },
     "metadata": {},
     "output_type": "display_data"
    }
   ],
   "source": [
    "tokenizer = AutoTokenizer.from_pretrained(XLMR_MODEL,num_labels=len(set(train_df.Label.values)),output_hidden_states = False)"
   ]
  },
  {
   "cell_type": "code",
   "execution_count": 17,
   "id": "86f06e39",
   "metadata": {
    "execution": {
     "iopub.execute_input": "2022-11-19T19:23:46.891770Z",
     "iopub.status.busy": "2022-11-19T19:23:46.890794Z",
     "iopub.status.idle": "2022-11-19T19:25:21.920664Z",
     "shell.execute_reply": "2022-11-19T19:25:21.918997Z",
     "shell.execute_reply.started": "2022-11-19T00:27:59.486071Z"
    },
    "id": "29FCDcIziD84",
    "outputId": "89d75b5e-4197-4268-eef6-e294449abf39",
    "papermill": {
     "duration": 95.075466,
     "end_time": "2022-11-19T19:25:21.920865",
     "exception": false,
     "start_time": "2022-11-19T19:23:46.845399",
     "status": "completed"
    },
    "tags": []
   },
   "outputs": [
    {
     "data": {
      "application/vnd.jupyter.widget-view+json": {
       "model_id": "466db851b2934b89beb5beeb4642eef2",
       "version_major": 2,
       "version_minor": 0
      },
      "text/plain": [
       "Downloading:   0%|          | 0.00/1.63G [00:00<?, ?B/s]"
      ]
     },
     "metadata": {},
     "output_type": "display_data"
    },
    {
     "name": "stderr",
     "output_type": "stream",
     "text": [
      "Some layers from the model checkpoint at roberta-large were not used when initializing TFRobertaModel: ['lm_head']\n",
      "- This IS expected if you are initializing TFRobertaModel from the checkpoint of a model trained on another task or with another architecture (e.g. initializing a BertForSequenceClassification model from a BertForPreTraining model).\n",
      "- This IS NOT expected if you are initializing TFRobertaModel from the checkpoint of a model that you expect to be exactly identical (initializing a BertForSequenceClassification model from a BertForSequenceClassification model).\n",
      "All the layers of TFRobertaModel were initialized from the model checkpoint at roberta-large.\n",
      "If your task is similar to the task the model of the checkpoint was trained on, you can already use TFRobertaModel for predictions without further training.\n"
     ]
    },
    {
     "name": "stdout",
     "output_type": "stream",
     "text": [
      "CPU times: user 49.6 s, sys: 19.4 s, total: 1min 9s\n",
      "Wall time: 1min 34s\n"
     ]
    }
   ],
   "source": [
    "%%time\n",
    "with strategy.scope():\n",
    "    transformer_layer = TFAutoModel.from_pretrained(XLMR_MODEL,num_labels=len(set(train_df.Label.values)),output_attentions = False,output_hidden_states = False)"
   ]
  },
  {
   "cell_type": "markdown",
   "id": "ad075636",
   "metadata": {
    "id": "kf1ZrRk6iD84",
    "papermill": {
     "duration": 0.044418,
     "end_time": "2022-11-19T19:25:22.009476",
     "exception": false,
     "start_time": "2022-11-19T19:25:21.965058",
     "status": "completed"
    },
    "tags": []
   },
   "source": [
    "#### Data encoding"
   ]
  },
  {
   "cell_type": "code",
   "execution_count": 18,
   "id": "e4e3473b",
   "metadata": {
    "execution": {
     "iopub.execute_input": "2022-11-19T19:25:22.103622Z",
     "iopub.status.busy": "2022-11-19T19:25:22.102933Z",
     "iopub.status.idle": "2022-11-19T19:25:22.106210Z",
     "shell.execute_reply": "2022-11-19T19:25:22.105607Z",
     "shell.execute_reply.started": "2022-11-19T00:28:07.995299Z"
    },
    "id": "bbugEAAYiD84",
    "papermill": {
     "duration": 0.052907,
     "end_time": "2022-11-19T19:25:22.106368",
     "exception": false,
     "start_time": "2022-11-19T19:25:22.053461",
     "status": "completed"
    },
    "tags": []
   },
   "outputs": [],
   "source": [
    "def encode(texts, tokenizer = tokenizer, maxlen = MAX_LEN):\n",
    "    text_encoded = tokenizer.batch_encode_plus(\n",
    "        texts, \n",
    "        pad_to_max_length = True,\n",
    "        max_length = maxlen\n",
    "    )\n",
    "\n",
    "    return np.array(text_encoded['input_ids'])\n",
    "\n",
    "# input_ids - token indices, numerical representations of \n",
    "# tokens building the sequences that will be used as input by the model."
   ]
  },
  {
   "cell_type": "code",
   "execution_count": 19,
   "id": "9f325f13",
   "metadata": {
    "execution": {
     "iopub.execute_input": "2022-11-19T19:25:22.199168Z",
     "iopub.status.busy": "2022-11-19T19:25:22.198341Z",
     "iopub.status.idle": "2022-11-19T19:25:22.228998Z",
     "shell.execute_reply": "2022-11-19T19:25:22.229725Z",
     "shell.execute_reply.started": "2022-11-19T00:28:08.021792Z"
    },
    "papermill": {
     "duration": 0.078764,
     "end_time": "2022-11-19T19:25:22.229973",
     "exception": false,
     "start_time": "2022-11-19T19:25:22.151209",
     "status": "completed"
    },
    "tags": []
   },
   "outputs": [
    {
     "name": "stdout",
     "output_type": "stream",
     "text": [
      "Translated    Madam President, Mrs Banotti, has already rais...\n",
      "Label                                                         2\n",
      "Name: 14359, dtype: object\n",
      "Translated    Mr President, according to the Minutes of 29 M...\n",
      "Label                                                         0\n",
      "Name: 14361, dtype: object\n",
      "Translated    First of all, I would like to congratulate my ...\n",
      "Label                                                         2\n",
      "Name: 39721, dtype: object\n",
      "Translated    Mr President, I would like to talk about the s...\n",
      "Label                                                         1\n",
      "Name: 39723, dtype: object\n"
     ]
    },
    {
     "data": {
      "text/html": [
       "<div>\n",
       "<style scoped>\n",
       "    .dataframe tbody tr th:only-of-type {\n",
       "        vertical-align: middle;\n",
       "    }\n",
       "\n",
       "    .dataframe tbody tr th {\n",
       "        vertical-align: top;\n",
       "    }\n",
       "\n",
       "    .dataframe thead th {\n",
       "        text-align: right;\n",
       "    }\n",
       "</style>\n",
       "<table border=\"1\" class=\"dataframe\">\n",
       "  <thead>\n",
       "    <tr style=\"text-align: right;\">\n",
       "      <th></th>\n",
       "      <th>Translated</th>\n",
       "      <th>Label</th>\n",
       "    </tr>\n",
       "    <tr>\n",
       "      <th>id_ref</th>\n",
       "      <th></th>\n",
       "      <th></th>\n",
       "    </tr>\n",
       "  </thead>\n",
       "  <tbody>\n",
       "  </tbody>\n",
       "</table>\n",
       "</div>"
      ],
      "text/plain": [
       "Empty DataFrame\n",
       "Columns: [Translated, Label]\n",
       "Index: []"
      ]
     },
     "execution_count": 19,
     "metadata": {},
     "output_type": "execute_result"
    }
   ],
   "source": [
    "# print(train_df_unspl.iloc[0:2].Translated.values.tolist())\n",
    "# print(train_df_unspl.iloc[41569].tolist())\n",
    "train_df_unspl.isnull().values.any()\n",
    "# test_df.loc[test_df.Text.isnull()==True] #see nan lines\n",
    "test_df.loc[7582].Text=''#peticit e doar un newline\n",
    "\n",
    "print(train_df_unspl.loc[14359])\n",
    "# print(train_df_unspl.loc[14360])\n",
    "print(train_df_unspl.loc[14361])\n",
    "print(train_df_unspl.loc[39721])\n",
    "# print(train_df_unspl.loc[39722])\n",
    "print(train_df_unspl.loc[39723])\n",
    "train_df_unspl.loc[train_df_unspl.Translated.isnull()==True]#nan linii\n",
    "\n",
    "# train_df = train_df.dropna()\n",
    "# test_df=test_df.dropna()"
   ]
  },
  {
   "cell_type": "code",
   "execution_count": 20,
   "id": "1e96371f",
   "metadata": {
    "execution": {
     "iopub.execute_input": "2022-11-19T19:25:22.328789Z",
     "iopub.status.busy": "2022-11-19T19:25:22.327964Z",
     "iopub.status.idle": "2022-11-19T19:25:50.848835Z",
     "shell.execute_reply": "2022-11-19T19:25:50.848239Z",
     "shell.execute_reply.started": "2022-11-19T00:28:08.056064Z"
    },
    "id": "lRYionIciD85",
    "papermill": {
     "duration": 28.573505,
     "end_time": "2022-11-19T19:25:50.849011",
     "exception": false,
     "start_time": "2022-11-19T19:25:22.275506",
     "status": "completed"
    },
    "tags": []
   },
   "outputs": [
    {
     "name": "stderr",
     "output_type": "stream",
     "text": [
      "Truncation was not explicitly activated but `max_length` is provided a specific value, please use `truncation=True` to explicitly truncate examples to max length. Defaulting to 'longest_first' truncation strategy. If you encode pairs of sequences (GLUE-style) with the tokenizer you can select this strategy more precisely by providing a specific strategy to `truncation`.\n",
      "/opt/conda/lib/python3.7/site-packages/transformers/tokenization_utils_base.py:2079: FutureWarning: The `pad_to_max_length` argument is deprecated and will be removed in a future version, use `padding=True` or `padding='longest'` to pad to the longest sequence in the batch, or use `padding='max_length'` to pad to a max length. In this case, you can give a specific length with `max_length` (e.g. `max_length=45`) or leave max_length to None to pad to the maximal input size of the model (e.g. 512 for Bert).\n",
      "  FutureWarning,\n"
     ]
    }
   ],
   "source": [
    "x_train = encode(train_df.Translated.values.tolist(), tokenizer, maxlen = MAX_LEN)\n",
    "\n",
    "x_validation = encode(validation_df.Translated.values.tolist(), tokenizer, maxlen = MAX_LEN)\n",
    "\n",
    "x_test = encode(test_df.Text.values.tolist(), tokenizer, maxlen = MAX_LEN)"
   ]
  },
  {
   "cell_type": "code",
   "execution_count": 21,
   "id": "ab9658b4",
   "metadata": {
    "execution": {
     "iopub.execute_input": "2022-11-19T19:25:50.949226Z",
     "iopub.status.busy": "2022-11-19T19:25:50.948274Z",
     "iopub.status.idle": "2022-11-19T19:25:50.952233Z",
     "shell.execute_reply": "2022-11-19T19:25:50.951687Z",
     "shell.execute_reply.started": "2022-11-19T00:29:06.877099Z"
    },
    "papermill": {
     "duration": 0.057855,
     "end_time": "2022-11-19T19:25:50.952385",
     "exception": false,
     "start_time": "2022-11-19T19:25:50.894530",
     "status": "completed"
    },
    "tags": []
   },
   "outputs": [
    {
     "data": {
      "text/plain": [
       "array([[    0, 10980,   270, ...,  6355,     9,     2],\n",
       "       [    0, 10980,   270, ...,     9,    63,     2],\n",
       "       [    0,  6517, 20205, ...,     1,     1,     1],\n",
       "       ...,\n",
       "       [    0, 10836,     5, ...,     1,     1,     1],\n",
       "       [    0, 10980,   270, ...,     1,     1,     1],\n",
       "       [    0, 21067,   424, ...,     1,     1,     1]])"
      ]
     },
     "execution_count": 21,
     "metadata": {},
     "output_type": "execute_result"
    }
   ],
   "source": [
    "x_train"
   ]
  },
  {
   "cell_type": "markdown",
   "id": "57ada535",
   "metadata": {
    "id": "rYf5FOQuiD85",
    "papermill": {
     "duration": 0.045257,
     "end_time": "2022-11-19T19:25:51.043767",
     "exception": false,
     "start_time": "2022-11-19T19:25:50.998510",
     "status": "completed"
    },
    "tags": []
   },
   "source": [
    "#### Datasets for TensorFlow"
   ]
  },
  {
   "cell_type": "code",
   "execution_count": 22,
   "id": "65af5112",
   "metadata": {
    "execution": {
     "iopub.execute_input": "2022-11-19T19:25:51.142833Z",
     "iopub.status.busy": "2022-11-19T19:25:51.142081Z",
     "iopub.status.idle": "2022-11-19T19:25:51.144807Z",
     "shell.execute_reply": "2022-11-19T19:25:51.145362Z",
     "shell.execute_reply.started": "2022-11-19T00:29:06.886499Z"
    },
    "id": "akQMDBeliD85",
    "papermill": {
     "duration": 0.055881,
     "end_time": "2022-11-19T19:25:51.145551",
     "exception": false,
     "start_time": "2022-11-19T19:25:51.089670",
     "status": "completed"
    },
    "tags": []
   },
   "outputs": [],
   "source": [
    "def transform_to_tensors(x_train, y_train, x_validation, y_validation, x_test, shuffle = SHUFFLE, batch_size = BATCH_SIZE):\n",
    "    \n",
    "  # repeat - repeats this dataset so each original value is seen count times (no parameter - no repeat)\n",
    "  # shuffle - randomly shuffles the elements of this dataset\n",
    "  # batch - combines consecutive elements of this dataset into batches\n",
    "  # cache - caches the elements in this dataset\n",
    "  # prefetch - creates a Dataset that prefetches elements from this dataset\n",
    "\n",
    "    train_ds = (\n",
    "      tf.data.Dataset\n",
    "      .from_tensor_slices((x_train, y_train))\n",
    "      .repeat()\n",
    "      .shuffle(shuffle)\n",
    "      .batch(batch_size)\n",
    "      .prefetch(AUTO)\n",
    "    )\n",
    "\n",
    "    validation_ds = (\n",
    "      tf.data.Dataset\n",
    "      .from_tensor_slices((x_validation, y_validation))\n",
    "      .batch(batch_size)\n",
    "      .cache()\n",
    "      .prefetch(AUTO)\n",
    "    )\n",
    "\n",
    "    test_ds = (\n",
    "      tf.data.Dataset\n",
    "      .from_tensor_slices(x_test)\n",
    "      .batch(batch_size)\n",
    "    )\n",
    "\n",
    "    return train_ds, validation_ds, test_ds"
   ]
  },
  {
   "cell_type": "code",
   "execution_count": 23,
   "id": "6dbdd501",
   "metadata": {
    "execution": {
     "iopub.execute_input": "2022-11-19T19:25:51.248962Z",
     "iopub.status.busy": "2022-11-19T19:25:51.248221Z",
     "iopub.status.idle": "2022-11-19T19:25:51.253499Z",
     "shell.execute_reply": "2022-11-19T19:25:51.252971Z",
     "shell.execute_reply.started": "2022-11-19T00:29:06.899488Z"
    },
    "id": "wjzkLs-yiD86",
    "papermill": {
     "duration": 0.062157,
     "end_time": "2022-11-19T19:25:51.253655",
     "exception": false,
     "start_time": "2022-11-19T19:25:51.191498",
     "status": "completed"
    },
    "tags": []
   },
   "outputs": [],
   "source": [
    "# y_train = train_df.label.values.astype(np.float32)\n",
    "y_train=tf.keras.utils.to_categorical(train_df.Label.values,num_classes=len(set(train_df.Label.values)), dtype='float32')\n",
    "# # train_labels=np.asarray(train_labels).astype(np.float32)\n",
    "# # val_labels=np.asarray(val_labels).astype(np.float32)\n",
    "# y_validation = validation_df.label.values.astype(np.float32)\n",
    "y_validation=tf.keras.utils.to_categorical(validation_df.Label.values,num_classes=len(set(validation_df.Label.values)), dtype='float32')"
   ]
  },
  {
   "cell_type": "code",
   "execution_count": 24,
   "id": "c340e853",
   "metadata": {
    "execution": {
     "iopub.execute_input": "2022-11-19T19:25:51.412869Z",
     "iopub.status.busy": "2022-11-19T19:25:51.411331Z",
     "iopub.status.idle": "2022-11-19T19:25:51.982132Z",
     "shell.execute_reply": "2022-11-19T19:25:51.981386Z",
     "shell.execute_reply.started": "2022-11-19T00:29:06.916304Z"
    },
    "papermill": {
     "duration": 0.683115,
     "end_time": "2022-11-19T19:25:51.982282",
     "exception": false,
     "start_time": "2022-11-19T19:25:51.299167",
     "status": "completed"
    },
    "tags": []
   },
   "outputs": [],
   "source": [
    "train_ds, validation_ds, test_ds = transform_to_tensors(x_train, y_train, x_validation, y_validation, x_test)"
   ]
  },
  {
   "cell_type": "code",
   "execution_count": 25,
   "id": "e9d98f95",
   "metadata": {
    "execution": {
     "iopub.execute_input": "2022-11-19T19:25:52.292368Z",
     "iopub.status.busy": "2022-11-19T19:25:52.291465Z",
     "iopub.status.idle": "2022-11-19T19:25:52.295251Z",
     "shell.execute_reply": "2022-11-19T19:25:52.294681Z",
     "shell.execute_reply.started": "2022-11-19T00:29:06.990741Z"
    },
    "papermill": {
     "duration": 0.266664,
     "end_time": "2022-11-19T19:25:52.295402",
     "exception": false,
     "start_time": "2022-11-19T19:25:52.028738",
     "status": "completed"
    },
    "tags": []
   },
   "outputs": [
    {
     "data": {
      "text/plain": [
       "21"
      ]
     },
     "execution_count": 25,
     "metadata": {},
     "output_type": "execute_result"
    }
   ],
   "source": [
    "# del [[train_df, validation_df, test_df, train_df_unspl, stop_words]]\n",
    "del [[train_df, validation_df, test_df, train_df_unspl]]\n",
    "gc.collect()"
   ]
  },
  {
   "cell_type": "markdown",
   "id": "7233a1ed",
   "metadata": {
    "id": "HM0caLkliD86",
    "papermill": {
     "duration": 0.045577,
     "end_time": "2022-11-19T19:25:52.387161",
     "exception": false,
     "start_time": "2022-11-19T19:25:52.341584",
     "status": "completed"
    },
    "tags": []
   },
   "source": [
    "##### Prepare model"
   ]
  },
  {
   "cell_type": "code",
   "execution_count": 26,
   "id": "d68282a7",
   "metadata": {
    "execution": {
     "iopub.execute_input": "2022-11-19T19:25:52.485243Z",
     "iopub.status.busy": "2022-11-19T19:25:52.484543Z",
     "iopub.status.idle": "2022-11-19T19:25:52.487891Z",
     "shell.execute_reply": "2022-11-19T19:25:52.488369Z",
     "shell.execute_reply.started": "2022-11-19T00:29:07.252142Z"
    },
    "papermill": {
     "duration": 0.0531,
     "end_time": "2022-11-19T19:25:52.488551",
     "exception": false,
     "start_time": "2022-11-19T19:25:52.435451",
     "status": "completed"
    },
    "tags": []
   },
   "outputs": [],
   "source": [
    "tf.random.set_seed(12345) # For reproducibility"
   ]
  },
  {
   "cell_type": "code",
   "execution_count": 27,
   "id": "e4aa0b75",
   "metadata": {
    "execution": {
     "iopub.execute_input": "2022-11-19T19:25:52.587441Z",
     "iopub.status.busy": "2022-11-19T19:25:52.585626Z",
     "iopub.status.idle": "2022-11-19T19:25:52.590755Z",
     "shell.execute_reply": "2022-11-19T19:25:52.591202Z",
     "shell.execute_reply.started": "2022-11-19T00:29:07.265247Z"
    },
    "papermill": {
     "duration": 0.056441,
     "end_time": "2022-11-19T19:25:52.591385",
     "exception": false,
     "start_time": "2022-11-19T19:25:52.534944",
     "status": "completed"
    },
    "tags": []
   },
   "outputs": [],
   "source": [
    "tf.keras.backend.clear_session()"
   ]
  },
  {
   "cell_type": "code",
   "execution_count": 28,
   "id": "00a92f3e",
   "metadata": {
    "execution": {
     "iopub.execute_input": "2022-11-19T19:25:52.691905Z",
     "iopub.status.busy": "2022-11-19T19:25:52.690985Z",
     "iopub.status.idle": "2022-11-19T19:25:52.693712Z",
     "shell.execute_reply": "2022-11-19T19:25:52.693200Z",
     "shell.execute_reply.started": "2022-11-19T00:29:07.282882Z"
    },
    "id": "lzL2f8rAiD87",
    "papermill": {
     "duration": 0.056694,
     "end_time": "2022-11-19T19:25:52.693861",
     "exception": false,
     "start_time": "2022-11-19T19:25:52.637167",
     "status": "completed"
    },
    "tags": []
   },
   "outputs": [],
   "source": [
    "def build_model(transformer, max_len = MAX_LEN, learning_rate = LEARNING_RATE): #nu modifica toti parametrii, incearca sa antrenezi doar layere high up, nu cele low \n",
    "    # input tokens \n",
    "    input_word_ids = Input(shape = (max_len,), dtype = tf.int32, name=\"input_word_ids\")\n",
    "#     input_word_ids = Input(shape = (), dtype = tf.string, name=\"text\")\n",
    "    # encode the text using the transformers\n",
    "    sequence_output = transformer(input_word_ids)[0]\n",
    "    \n",
    "    # extract the token used for classification\n",
    "    cls_token = sequence_output[:, 0, :]\n",
    "    out = Dense(3, activation=\"softmax\")(cls_token)\n",
    "\n",
    "    # build and compile the model\n",
    "    model = Model(inputs = [input_word_ids], outputs = out)\n",
    "    model.compile(AdamW(lr = learning_rate,weight_decay=1e-5), loss = 'categorical_crossentropy', metrics=['accuracy', tf.keras.metrics.AUC()])\n",
    "    \n",
    "    return model"
   ]
  },
  {
   "cell_type": "code",
   "execution_count": 29,
   "id": "2bc5d88f",
   "metadata": {
    "execution": {
     "iopub.execute_input": "2022-11-19T19:25:52.790650Z",
     "iopub.status.busy": "2022-11-19T19:25:52.789975Z",
     "iopub.status.idle": "2022-11-19T19:26:01.914037Z",
     "shell.execute_reply": "2022-11-19T19:26:01.913058Z",
     "shell.execute_reply.started": "2022-11-19T00:29:07.294637Z"
    },
    "id": "LYLRDeQIiD88",
    "outputId": "daf9d5da-4418-498a-b05e-5cc890e11ff5",
    "papermill": {
     "duration": 9.173218,
     "end_time": "2022-11-19T19:26:01.914254",
     "exception": false,
     "start_time": "2022-11-19T19:25:52.741036",
     "status": "completed"
    },
    "tags": []
   },
   "outputs": [
    {
     "name": "stdout",
     "output_type": "stream",
     "text": [
      "Model: \"model\"\n",
      "_________________________________________________________________\n",
      "Layer (type)                 Output Shape              Param #   \n",
      "=================================================================\n",
      "input_word_ids (InputLayer)  [(None, 512)]             0         \n",
      "_________________________________________________________________\n",
      "tf_roberta_model (TFRobertaM TFBaseModelOutputWithPool 355359744 \n",
      "_________________________________________________________________\n",
      "tf.__operators__.getitem (Sl (None, 1024)              0         \n",
      "_________________________________________________________________\n",
      "dense (Dense)                (None, 3)                 3075      \n",
      "=================================================================\n",
      "Total params: 355,362,819\n",
      "Trainable params: 355,362,819\n",
      "Non-trainable params: 0\n",
      "_________________________________________________________________\n",
      "CPU times: user 9 s, sys: 65.5 ms, total: 9.06 s\n",
      "Wall time: 9.12 s\n"
     ]
    }
   ],
   "source": [
    "%%time\n",
    "with strategy.scope():      \n",
    "    model = build_model(transformer_layer)\n",
    "model.summary()"
   ]
  },
  {
   "cell_type": "code",
   "execution_count": 30,
   "id": "58a8783a",
   "metadata": {
    "execution": {
     "iopub.execute_input": "2022-11-19T19:26:02.016460Z",
     "iopub.status.busy": "2022-11-19T19:26:02.015632Z",
     "iopub.status.idle": "2022-11-19T19:26:03.537311Z",
     "shell.execute_reply": "2022-11-19T19:26:03.536581Z",
     "shell.execute_reply.started": "2022-11-19T00:29:10.778988Z"
    },
    "id": "9G9MLefmiD88",
    "outputId": "29ecc306-87aa-40b0-cd9e-359938a33c5a",
    "papermill": {
     "duration": 1.574837,
     "end_time": "2022-11-19T19:26:03.537464",
     "exception": false,
     "start_time": "2022-11-19T19:26:01.962627",
     "status": "completed"
    },
    "tags": []
   },
   "outputs": [
    {
     "name": "stdout",
     "output_type": "stream",
     "text": [
      "huggingface/tokenizers: The current process just got forked, after parallelism has already been used. Disabling parallelism to avoid deadlocks...\n",
      "To disable this warning, you can either:\n",
      "\t- Avoid using `tokenizers` before the fork if possible\n",
      "\t- Explicitly set the environment variable TOKENIZERS_PARALLELISM=(true | false)\n",
      "huggingface/tokenizers: The current process just got forked, after parallelism has already been used. Disabling parallelism to avoid deadlocks...\n",
      "To disable this warning, you can either:\n",
      "\t- Avoid using `tokenizers` before the fork if possible\n",
      "\t- Explicitly set the environment variable TOKENIZERS_PARALLELISM=(true | false)\n"
     ]
    },
    {
     "data": {
      "image/svg+xml": [
       "<svg height=\"257pt\" viewBox=\"0.00 0.00 331.00 264.00\" width=\"322pt\" xmlns=\"http://www.w3.org/2000/svg\" xmlns:xlink=\"http://www.w3.org/1999/xlink\">\n",
       "<g class=\"graph\" id=\"graph0\" transform=\"scale(0.97 0.97) rotate(0) translate(4 260)\">\n",
       "<title>G</title>\n",
       "<polygon fill=\"white\" points=\"-4,4 -4,-260 327,-260 327,4 -4,4\" stroke=\"transparent\"/>\n",
       "<!-- 140069158471632 -->\n",
       "<g class=\"node\" id=\"node1\">\n",
       "<title>140069158471632</title>\n",
       "<polygon fill=\"none\" points=\"55.5,-219.5 55.5,-255.5 267.5,-255.5 267.5,-219.5 55.5,-219.5\" stroke=\"black\"/>\n",
       "<text font-family=\"Times,serif\" font-size=\"14.00\" text-anchor=\"middle\" x=\"161.5\" y=\"-233.8\">input_word_ids: InputLayer</text>\n",
       "</g>\n",
       "<!-- 140069827021136 -->\n",
       "<g class=\"node\" id=\"node2\">\n",
       "<title>140069827021136</title>\n",
       "<polygon fill=\"none\" points=\"28,-146.5 28,-182.5 295,-182.5 295,-146.5 28,-146.5\" stroke=\"black\"/>\n",
       "<text font-family=\"Times,serif\" font-size=\"14.00\" text-anchor=\"middle\" x=\"161.5\" y=\"-160.8\">tf_roberta_model: TFRobertaModel</text>\n",
       "</g>\n",
       "<!-- 140069158471632&#45;&gt;140069827021136 -->\n",
       "<g class=\"edge\" id=\"edge1\">\n",
       "<title>140069158471632-&gt;140069827021136</title>\n",
       "<path d=\"M161.5,-219.31C161.5,-211.29 161.5,-201.55 161.5,-192.57\" fill=\"none\" stroke=\"black\"/>\n",
       "<polygon fill=\"black\" points=\"165,-192.53 161.5,-182.53 158,-192.53 165,-192.53\" stroke=\"black\"/>\n",
       "</g>\n",
       "<!-- 140068348220496 -->\n",
       "<g class=\"node\" id=\"node3\">\n",
       "<title>140068348220496</title>\n",
       "<polygon fill=\"none\" points=\"0,-73.5 0,-109.5 323,-109.5 323,-73.5 0,-73.5\" stroke=\"black\"/>\n",
       "<text font-family=\"Times,serif\" font-size=\"14.00\" text-anchor=\"middle\" x=\"161.5\" y=\"-87.8\">tf.__operators__.getitem: SlicingOpLambda</text>\n",
       "</g>\n",
       "<!-- 140069827021136&#45;&gt;140068348220496 -->\n",
       "<g class=\"edge\" id=\"edge2\">\n",
       "<title>140069827021136-&gt;140068348220496</title>\n",
       "<path d=\"M161.5,-146.31C161.5,-138.29 161.5,-128.55 161.5,-119.57\" fill=\"none\" stroke=\"black\"/>\n",
       "<polygon fill=\"black\" points=\"165,-119.53 161.5,-109.53 158,-119.53 165,-119.53\" stroke=\"black\"/>\n",
       "</g>\n",
       "<!-- 140068349888464 -->\n",
       "<g class=\"node\" id=\"node4\">\n",
       "<title>140068349888464</title>\n",
       "<polygon fill=\"none\" points=\"105.5,-0.5 105.5,-36.5 217.5,-36.5 217.5,-0.5 105.5,-0.5\" stroke=\"black\"/>\n",
       "<text font-family=\"Times,serif\" font-size=\"14.00\" text-anchor=\"middle\" x=\"161.5\" y=\"-14.8\">dense: Dense</text>\n",
       "</g>\n",
       "<!-- 140068348220496&#45;&gt;140068349888464 -->\n",
       "<g class=\"edge\" id=\"edge3\">\n",
       "<title>140068348220496-&gt;140068349888464</title>\n",
       "<path d=\"M161.5,-73.31C161.5,-65.29 161.5,-55.55 161.5,-46.57\" fill=\"none\" stroke=\"black\"/>\n",
       "<polygon fill=\"black\" points=\"165,-46.53 161.5,-36.53 158,-46.53 165,-46.53\" stroke=\"black\"/>\n",
       "</g>\n",
       "</g>\n",
       "</svg>"
      ],
      "text/plain": [
       "<IPython.core.display.SVG object>"
      ]
     },
     "execution_count": 30,
     "metadata": {},
     "output_type": "execute_result"
    }
   ],
   "source": [
    "SVG(model_to_dot(model, dpi=70).create(prog='dot', format='svg'))"
   ]
  },
  {
   "cell_type": "markdown",
   "id": "56bee984",
   "metadata": {
    "id": "zF2rHkqViD88",
    "papermill": {
     "duration": 0.048451,
     "end_time": "2022-11-19T19:26:03.633331",
     "exception": false,
     "start_time": "2022-11-19T19:26:03.584880",
     "status": "completed"
    },
    "tags": []
   },
   "source": [
    "##### Model training"
   ]
  },
  {
   "cell_type": "code",
   "execution_count": 31,
   "id": "acd4b098",
   "metadata": {
    "execution": {
     "iopub.execute_input": "2022-11-19T19:26:03.733400Z",
     "iopub.status.busy": "2022-11-19T19:26:03.732728Z",
     "iopub.status.idle": "2022-11-19T19:26:03.736565Z",
     "shell.execute_reply": "2022-11-19T19:26:03.737176Z",
     "shell.execute_reply.started": "2022-11-19T00:29:12.576717Z"
    },
    "id": "x2vaKTh5iD88",
    "papermill": {
     "duration": 0.055813,
     "end_time": "2022-11-19T19:26:03.737363",
     "exception": false,
     "start_time": "2022-11-19T19:26:03.681550",
     "status": "completed"
    },
    "tags": []
   },
   "outputs": [],
   "source": [
    "N_STEPS = x_train.shape[0] // BATCH_SIZE"
   ]
  },
  {
   "cell_type": "code",
   "execution_count": 32,
   "id": "092b6dc1",
   "metadata": {
    "execution": {
     "iopub.execute_input": "2022-11-19T19:26:03.838232Z",
     "iopub.status.busy": "2022-11-19T19:26:03.837528Z",
     "iopub.status.idle": "2022-11-19T19:26:03.840493Z",
     "shell.execute_reply": "2022-11-19T19:26:03.839986Z",
     "shell.execute_reply.started": "2022-11-19T00:29:12.588996Z"
    },
    "papermill": {
     "duration": 0.055977,
     "end_time": "2022-11-19T19:26:03.840643",
     "exception": false,
     "start_time": "2022-11-19T19:26:03.784666",
     "status": "completed"
    },
    "tags": []
   },
   "outputs": [],
   "source": [
    " # Checkpoint: save the models that show improvements in accuracy\n",
    "# checkpoint_path = \"./\"\n",
    "# filepath= checkpoint_path + \"model_best_9.hdf5\" #crapa cu toate\n",
    "# filepath= checkpoint_path #crapa cu toate\n",
    "# checkpoint = ModelCheckpoint(filepath, monitor='val_accuracy', verbose=1, save_best_only=True, mode='max')\n",
    "# Early stopping: don't keep training if the validation accuracy did not improve for the last 5 epochs\n",
    "es = EarlyStopping(monitor='val_accuracy', mode='max', verbose=1, patience=5,restore_best_weights=True)  #crapa cand da restore pe roberta large      \n",
    "# es = EarlyStopping(monitor='val_accuracy', mode='max', verbose=1, patience=5) #early stopping fara saving\n",
    "# es = EarlyStopping(monitor='loss', mode='max', verbose=1, patience=3)  \n",
    "# Use the above two as callbacks\n",
    "# callbacks_list = [checkpoint, es]\n",
    "callbacks_list = es"
   ]
  },
  {
   "cell_type": "code",
   "execution_count": 33,
   "id": "9f15e99c",
   "metadata": {
    "execution": {
     "iopub.execute_input": "2022-11-19T19:26:03.946953Z",
     "iopub.status.busy": "2022-11-19T19:26:03.946107Z",
     "iopub.status.idle": "2022-11-19T21:12:23.107736Z",
     "shell.execute_reply": "2022-11-19T21:12:23.109952Z"
    },
    "id": "Fz8WLOg9iD8-",
    "outputId": "7b1b6d3b-3c7b-4bef-90d6-177eaaa37391",
    "papermill": {
     "duration": 6379.222126,
     "end_time": "2022-11-19T21:12:23.110253",
     "exception": false,
     "start_time": "2022-11-19T19:26:03.888127",
     "status": "completed"
    },
    "tags": []
   },
   "outputs": [
    {
     "name": "stdout",
     "output_type": "stream",
     "text": [
      "Epoch 1/50\n",
      "276/276 [==============================] - 433s 959ms/step - loss: 1.0346 - accuracy: 0.5548 - auc: 0.7228 - val_loss: 0.6495 - val_accuracy: 0.7173 - val_auc: 0.8847\n",
      "Epoch 2/50\n",
      "276/276 [==============================] - 235s 850ms/step - loss: 0.6370 - accuracy: 0.7391 - auc: 0.8913 - val_loss: 0.4897 - val_accuracy: 0.7973 - val_auc: 0.9358\n",
      "Epoch 3/50\n",
      "276/276 [==============================] - 235s 851ms/step - loss: 0.4662 - accuracy: 0.8098 - auc: 0.9417 - val_loss: 0.3440 - val_accuracy: 0.8611 - val_auc: 0.9676\n",
      "Epoch 4/50\n",
      "276/276 [==============================] - 235s 851ms/step - loss: 0.2878 - accuracy: 0.8859 - auc: 0.9775 - val_loss: 0.3519 - val_accuracy: 0.8704 - val_auc: 0.9684\n",
      "Epoch 5/50\n",
      "276/276 [==============================] - 235s 851ms/step - loss: 0.1736 - accuracy: 0.9347 - auc: 0.9913 - val_loss: 0.1536 - val_accuracy: 0.9448 - val_auc: 0.9924\n",
      "Epoch 6/50\n",
      "276/276 [==============================] - 235s 851ms/step - loss: 0.1179 - accuracy: 0.9570 - auc: 0.9956 - val_loss: 0.1075 - val_accuracy: 0.9634 - val_auc: 0.9955\n",
      "Epoch 7/50\n",
      "276/276 [==============================] - 235s 851ms/step - loss: 0.0627 - accuracy: 0.9779 - auc: 0.9987 - val_loss: 0.1578 - val_accuracy: 0.9423 - val_auc: 0.9922\n",
      "Epoch 8/50\n",
      "276/276 [==============================] - 235s 851ms/step - loss: 0.0818 - accuracy: 0.9722 - auc: 0.9974 - val_loss: 0.0918 - val_accuracy: 0.9719 - val_auc: 0.9963\n",
      "Epoch 9/50\n",
      "276/276 [==============================] - 235s 852ms/step - loss: 0.0286 - accuracy: 0.9904 - auc: 0.9997 - val_loss: 0.0878 - val_accuracy: 0.9745 - val_auc: 0.9962\n",
      "Epoch 10/50\n",
      "276/276 [==============================] - 235s 852ms/step - loss: 0.0232 - accuracy: 0.9922 - auc: 0.9997 - val_loss: 0.0890 - val_accuracy: 0.9753 - val_auc: 0.9956\n",
      "Epoch 11/50\n",
      "276/276 [==============================] - 235s 852ms/step - loss: 0.0241 - accuracy: 0.9909 - auc: 0.9997 - val_loss: 0.0720 - val_accuracy: 0.9790 - val_auc: 0.9974\n",
      "Epoch 12/50\n",
      "276/276 [==============================] - 235s 851ms/step - loss: 0.0215 - accuracy: 0.9920 - auc: 0.9997 - val_loss: 0.0754 - val_accuracy: 0.9806 - val_auc: 0.9966\n",
      "Epoch 13/50\n",
      "276/276 [==============================] - 236s 857ms/step - loss: 0.0205 - accuracy: 0.9925 - auc: 0.9998 - val_loss: 0.1039 - val_accuracy: 0.9715 - val_auc: 0.9948\n",
      "Epoch 14/50\n",
      "276/276 [==============================] - 235s 851ms/step - loss: 0.0159 - accuracy: 0.9945 - auc: 0.9998 - val_loss: 0.0828 - val_accuracy: 0.9767 - val_auc: 0.9964\n",
      "Epoch 15/50\n",
      "276/276 [==============================] - 235s 851ms/step - loss: 0.0117 - accuracy: 0.9962 - auc: 0.9998 - val_loss: 0.0695 - val_accuracy: 0.9811 - val_auc: 0.9970\n",
      "Epoch 16/50\n",
      "276/276 [==============================] - 235s 851ms/step - loss: 0.0100 - accuracy: 0.9968 - auc: 0.9998 - val_loss: 0.0609 - val_accuracy: 0.9851 - val_auc: 0.9971\n",
      "Epoch 17/50\n",
      "276/276 [==============================] - 235s 851ms/step - loss: 0.0132 - accuracy: 0.9956 - auc: 0.9998 - val_loss: 0.0632 - val_accuracy: 0.9843 - val_auc: 0.9968\n",
      "Epoch 18/50\n",
      "276/276 [==============================] - 235s 851ms/step - loss: 0.0154 - accuracy: 0.9943 - auc: 0.9998 - val_loss: 0.0633 - val_accuracy: 0.9830 - val_auc: 0.9972\n",
      "Epoch 19/50\n",
      "276/276 [==============================] - 235s 851ms/step - loss: 0.0159 - accuracy: 0.9948 - auc: 0.9997 - val_loss: 0.0698 - val_accuracy: 0.9803 - val_auc: 0.9971\n",
      "Epoch 20/50\n",
      "276/276 [==============================] - 235s 851ms/step - loss: 0.0083 - accuracy: 0.9971 - auc: 1.0000 - val_loss: 0.1712 - val_accuracy: 0.9537 - val_auc: 0.9907\n",
      "Epoch 21/50\n",
      "276/276 [==============================] - 235s 853ms/step - loss: 0.0130 - accuracy: 0.9955 - auc: 0.9997 - val_loss: 0.0495 - val_accuracy: 0.9886 - val_auc: 0.9978\n",
      "Epoch 22/50\n",
      "276/276 [==============================] - 235s 852ms/step - loss: 0.0131 - accuracy: 0.9954 - auc: 0.9999 - val_loss: 0.0637 - val_accuracy: 0.9840 - val_auc: 0.9964\n",
      "Epoch 23/50\n",
      "276/276 [==============================] - 235s 852ms/step - loss: 0.0054 - accuracy: 0.9981 - auc: 1.0000 - val_loss: 0.0715 - val_accuracy: 0.9825 - val_auc: 0.9962\n",
      "Epoch 24/50\n",
      "276/276 [==============================] - 235s 853ms/step - loss: 0.0126 - accuracy: 0.9965 - auc: 0.9995 - val_loss: 0.0674 - val_accuracy: 0.9836 - val_auc: 0.9968\n",
      "Epoch 25/50\n",
      "276/276 [==============================] - 235s 852ms/step - loss: 0.0132 - accuracy: 0.9954 - auc: 0.9998 - val_loss: 0.0492 - val_accuracy: 0.9881 - val_auc: 0.9982\n",
      "Epoch 26/50\n",
      "276/276 [==============================] - 235s 852ms/step - loss: 0.0071 - accuracy: 0.9975 - auc: 0.9999 - val_loss: 0.0408 - val_accuracy: 0.9873 - val_auc: 0.9986\n",
      "Restoring model weights from the end of the best epoch.\n",
      "Epoch 00026: early stopping\n"
     ]
    }
   ],
   "source": [
    "train_history = model.fit(train_ds, steps_per_epoch = N_STEPS, validation_data = validation_ds, epochs = EPOCHS, callbacks=[callbacks_list]) #autostop\n",
    "# train_history = model.fit(train_ds, steps_per_epoch = N_STEPS, validation_data = validation_ds, epochs = EPOCHS)"
   ]
  },
  {
   "cell_type": "markdown",
   "id": "495dfc6a",
   "metadata": {
    "id": "iO9t9FTViD8-",
    "papermill": {
     "duration": 2.102465,
     "end_time": "2022-11-19T21:12:27.335004",
     "exception": false,
     "start_time": "2022-11-19T21:12:25.232539",
     "status": "completed"
    },
    "tags": []
   },
   "source": [
    "##### Prediction"
   ]
  },
  {
   "cell_type": "code",
   "execution_count": 34,
   "id": "75e2e542",
   "metadata": {
    "execution": {
     "iopub.execute_input": "2022-11-19T21:12:31.724901Z",
     "iopub.status.busy": "2022-11-19T21:12:31.724079Z",
     "iopub.status.idle": "2022-11-19T21:12:31.751677Z",
     "shell.execute_reply": "2022-11-19T21:12:31.750950Z"
    },
    "id": "8-ABy6UziD8-",
    "papermill": {
     "duration": 2.1953,
     "end_time": "2022-11-19T21:12:31.751871",
     "exception": false,
     "start_time": "2022-11-19T21:12:29.556571",
     "status": "completed"
    },
    "tags": []
   },
   "outputs": [],
   "source": [
    "sns.set(style=\"whitegrid\")\n",
    "\n",
    "def plot_metrics(history, metric_list):\n",
    "    fig, axes = plt.subplots(len(metric_list), 1, sharex='col', figsize=(20, 18))\n",
    "    axes = axes.flatten()\n",
    "    \n",
    "    for index, metric in enumerate(metric_list):\n",
    "        axes[index].plot(history[metric], label='Train %s' % metric)\n",
    "        axes[index].plot(history['val_%s' % metric], label='Validation %s' % metric)\n",
    "        axes[index].legend(loc='best', fontsize=16)\n",
    "        axes[index].set_title(metric)\n",
    "\n",
    "    plt.xlabel('Epochs', fontsize=16)\n",
    "    sns.despine()\n",
    "    plt.show()\n",
    "    \n",
    "def plot_aur_curve(y_valid, valid_pred):\n",
    "    fpr_valid, tpr_valid, _ = roc_curve(y_valid, valid_pred)\n",
    "    roc_auc_valid = auc(fpr_valid, tpr_valid)\n",
    "\n",
    "    fig, ax = plt.subplots(1, 1, figsize=(8, 8))\n",
    "    plt.title('Receiver Operating Characteristic')\n",
    "    plt.plot(fpr_valid, tpr_valid, color='purple', label='ValidationAUC = %0.2f' % roc_auc_valid)\n",
    "    plt.legend(loc = 'lower right')\n",
    "    plt.plot([0, 1], [0, 1],'r--')\n",
    "    plt.xlim([0, 1])\n",
    "    plt.ylim([0, 1])\n",
    "    plt.ylabel('True Positive Rate')\n",
    "    plt.xlabel('False Positive Rate')\n",
    "    plt.show()\n",
    "    \n",
    "def plot_confusion_matrix(y_valid, valid_pred, labels=[0, 1]):\n",
    "    fig, (ax1, ax2) = plt.subplots(1, 2, figsize=(20, 8))\n",
    "    validation_cnf_matrix = confusion_matrix(y_valid, valid_pred)\n",
    "\n",
    "    validation_cnf_matrix_norm = validation_cnf_matrix.astype('float') / validation_cnf_matrix.sum(axis=1)[:, np.newaxis]\n",
    "\n",
    "    validation_df_cm = pd.DataFrame(validation_cnf_matrix_norm, index=labels, columns=labels)\n",
    "\n",
    "    sns.heatmap(validation_df_cm, annot=True, fmt='.2f', cmap=sns.cubehelix_palette(8),ax=ax2).set_title('Validation')\n",
    "    plt.show()"
   ]
  },
  {
   "cell_type": "code",
   "execution_count": 35,
   "id": "5ae6be0a",
   "metadata": {
    "execution": {
     "iopub.execute_input": "2022-11-19T21:12:36.167748Z",
     "iopub.status.busy": "2022-11-19T21:12:36.166979Z",
     "iopub.status.idle": "2022-11-19T21:12:37.280351Z",
     "shell.execute_reply": "2022-11-19T21:12:37.281176Z"
    },
    "id": "TSQDJO5GiD8-",
    "outputId": "0e7fe85f-786e-4207-872b-58cddd78bad8",
    "papermill": {
     "duration": 3.320482,
     "end_time": "2022-11-19T21:12:37.281410",
     "exception": false,
     "start_time": "2022-11-19T21:12:33.960928",
     "status": "completed"
    },
    "tags": []
   },
   "outputs": [
    {
     "data": {
      "image/png": "[encoded data removed]",
      "text/plain": [
       "<Figure size 1440x1296 with 3 Axes>"
      ]
     },
     "metadata": {},
     "output_type": "display_data"
    }
   ],
   "source": [
    "plot_metrics(train_history.history, metric_list=['loss', 'accuracy', 'auc'])"
   ]
  },
  {
   "cell_type": "code",
   "execution_count": 36,
   "id": "9d42c585",
   "metadata": {
    "execution": {
     "iopub.execute_input": "2022-11-19T21:12:41.741985Z",
     "iopub.status.busy": "2022-11-19T21:12:41.741095Z",
     "iopub.status.idle": "2022-11-19T21:13:21.669436Z",
     "shell.execute_reply": "2022-11-19T21:13:21.668647Z"
    },
    "papermill": {
     "duration": 42.230696,
     "end_time": "2022-11-19T21:13:21.669606",
     "exception": false,
     "start_time": "2022-11-19T21:12:39.438910",
     "status": "completed"
    },
    "tags": []
   },
   "outputs": [],
   "source": [
    "validation_pred = model.predict(validation_ds)"
   ]
  },
  {
   "cell_type": "code",
   "execution_count": 37,
   "id": "4a98ebce",
   "metadata": {
    "execution": {
     "iopub.execute_input": "2022-11-19T21:13:26.105166Z",
     "iopub.status.busy": "2022-11-19T21:13:26.104361Z",
     "iopub.status.idle": "2022-11-19T21:13:26.108975Z",
     "shell.execute_reply": "2022-11-19T21:13:26.108110Z"
    },
    "papermill": {
     "duration": 2.244969,
     "end_time": "2022-11-19T21:13:26.109150",
     "exception": false,
     "start_time": "2022-11-19T21:13:23.864181",
     "status": "completed"
    },
    "tags": []
   },
   "outputs": [],
   "source": [
    "# plot_aur_curve(y_validation, validation_pred)"
   ]
  },
  {
   "cell_type": "code",
   "execution_count": 38,
   "id": "f0bbfc4f",
   "metadata": {
    "execution": {
     "iopub.execute_input": "2022-11-19T21:13:30.791946Z",
     "iopub.status.busy": "2022-11-19T21:13:30.791105Z",
     "iopub.status.idle": "2022-11-19T21:13:30.793681Z",
     "shell.execute_reply": "2022-11-19T21:13:30.793058Z"
    },
    "papermill": {
     "duration": 2.326863,
     "end_time": "2022-11-19T21:13:30.793851",
     "exception": false,
     "start_time": "2022-11-19T21:13:28.466988",
     "status": "completed"
    },
    "tags": []
   },
   "outputs": [],
   "source": [
    "# model.predict(test_ds, verbose = 1)"
   ]
  },
  {
   "cell_type": "code",
   "execution_count": 39,
   "id": "dcd57a72",
   "metadata": {
    "execution": {
     "iopub.execute_input": "2022-11-19T21:13:35.384043Z",
     "iopub.status.busy": "2022-11-19T21:13:35.383248Z",
     "iopub.status.idle": "2022-11-19T21:14:26.541011Z",
     "shell.execute_reply": "2022-11-19T21:14:26.540369Z"
    },
    "id": "vNQRFDOfiD8-",
    "outputId": "e4e6b6ab-3840-4e2d-f972-f2095728f6f6",
    "papermill": {
     "duration": 53.526066,
     "end_time": "2022-11-19T21:14:26.541194",
     "exception": false,
     "start_time": "2022-11-19T21:13:33.015128",
     "status": "completed"
    },
    "tags": []
   },
   "outputs": [
    {
     "name": "stdout",
     "output_type": "stream",
     "text": [
      "109/109 [==============================] - 51s 409ms/step\n"
     ]
    }
   ],
   "source": [
    "# submission['label'] = model.predict(test_ds, verbose = 1)\n",
    "predictions=np.argmax(model.predict(test_ds, verbose = 1),axis=1)\n",
    "# final_prediction_list = le.inverse_transform(np.concatenate(predictions))\n",
    "# final_truelabel_list = le.inverse_transform(np.concatenate(true_labels))\n",
    "# final_prediction_list = le.inverse_transform()\n",
    "final_truelabel_list = le.inverse_transform(predictions)\n",
    "submission['label'] = final_truelabel_list"
   ]
  },
  {
   "cell_type": "code",
   "execution_count": 40,
   "id": "fb330ebf",
   "metadata": {
    "execution": {
     "iopub.execute_input": "2022-11-19T21:14:31.018108Z",
     "iopub.status.busy": "2022-11-19T21:14:31.017311Z",
     "iopub.status.idle": "2022-11-19T21:14:31.069960Z",
     "shell.execute_reply": "2022-11-19T21:14:31.069090Z"
    },
    "papermill": {
     "duration": 2.263322,
     "end_time": "2022-11-19T21:14:31.070135",
     "exception": false,
     "start_time": "2022-11-19T21:14:28.806813",
     "status": "completed"
    },
    "tags": []
   },
   "outputs": [],
   "source": [
    "submission.to_csv('submission_44.csv', index=False)"
   ]
  },
  {
   "cell_type": "code",
   "execution_count": 41,
   "id": "295b4eeb",
   "metadata": {
    "execution": {
     "iopub.execute_input": "2022-11-19T21:14:35.640715Z",
     "iopub.status.busy": "2022-11-19T21:14:35.639891Z",
     "iopub.status.idle": "2022-11-19T21:14:35.644515Z",
     "shell.execute_reply": "2022-11-19T21:14:35.643834Z"
    },
    "papermill": {
     "duration": 2.305776,
     "end_time": "2022-11-19T21:14:35.644665",
     "exception": false,
     "start_time": "2022-11-19T21:14:33.338889",
     "status": "completed"
    },
    "tags": []
   },
   "outputs": [
    {
     "data": {
      "text/html": [
       "<a href='submission_44.csv' target='_blank'>submission_44.csv</a><br>"
      ],
      "text/plain": [
       "/kaggle/working/submission_44.csv"
      ]
     },
     "execution_count": 41,
     "metadata": {},
     "output_type": "execute_result"
    }
   ],
   "source": [
    "from IPython.display import FileLink\n",
    "FileLink('submission_44.csv')"
   ]
  },
  {
   "cell_type": "code",
   "execution_count": 42,
   "id": "ef51db40",
   "metadata": {
    "execution": {
     "iopub.execute_input": "2022-11-19T21:14:40.156190Z",
     "iopub.status.busy": "2022-11-19T21:14:40.155381Z",
     "iopub.status.idle": "2022-11-19T21:14:40.693275Z",
     "shell.execute_reply": "2022-11-19T21:14:40.692633Z"
    },
    "papermill": {
     "duration": 2.840697,
     "end_time": "2022-11-19T21:14:40.693442",
     "exception": false,
     "start_time": "2022-11-19T21:14:37.852745",
     "status": "completed"
    },
    "tags": []
   },
   "outputs": [
    {
     "data": {
      "text/plain": [
       "Text(66.5, 0.5, 'Predicted Dialect Label')"
      ]
     },
     "execution_count": 42,
     "metadata": {},
     "output_type": "execute_result"
    },
    {
     "data": {
      "image/png": "[encoded data removed]",
      "text/plain": [
       "<Figure size 720x576 with 2 Axes>"
      ]
     },
     "metadata": {},
     "output_type": "display_data"
    }
   ],
   "source": [
    "class_label = np.unique(le.inverse_transform(y_confusionmat))\n",
    "val_pred_confusion=np.argmax(validation_pred,axis=1)\n",
    "# get confusion matrix \n",
    "cm = confusion_matrix(le.inverse_transform(y_confusionmat),\n",
    "                      le.inverse_transform(val_pred_confusion))\n",
    "# covert it to dataframe for plotting\n",
    "cm_df = pd.DataFrame(cm, \n",
    "                     index = class_label, \n",
    "                     columns = class_label)\n",
    "# plot it \n",
    "plt.figure(figsize = (10,8))\n",
    "g = sns.heatmap(cm_df, cmap = 'hot_r', annot=True, fmt='g')\n",
    "g.xaxis.set_ticks_position(\"top\")\n",
    "g.tick_params(axis='x', rotation=90)\n",
    "g.set_xlabel(\"True Dialect Label\")\n",
    "g.set_ylabel(\"Predicted Dialect Label\")"
   ]
  },
  {
   "cell_type": "code",
   "execution_count": 43,
   "id": "4699cb8d",
   "metadata": {
    "execution": {
     "iopub.execute_input": "2022-11-19T21:14:45.243214Z",
     "iopub.status.busy": "2022-11-19T21:14:45.242189Z",
     "iopub.status.idle": "2022-11-19T21:14:45.308923Z",
     "shell.execute_reply": "2022-11-19T21:14:45.308212Z"
    },
    "papermill": {
     "duration": 2.375545,
     "end_time": "2022-11-19T21:14:45.309079",
     "exception": false,
     "start_time": "2022-11-19T21:14:42.933534",
     "status": "completed"
    },
    "tags": []
   },
   "outputs": [
    {
     "name": "stdout",
     "output_type": "stream",
     "text": [
      "Validation set ROC AUC 0.9993\n",
      "              precision    recall  f1-score   support\n",
      "\n",
      "           0       1.00      0.99      0.99      3405\n",
      "           1       0.98      0.99      0.99      1580\n",
      "           2       0.98      0.99      0.98      1251\n",
      "\n",
      "   micro avg       0.99      0.99      0.99      6236\n",
      "   macro avg       0.99      0.99      0.99      6236\n",
      "weighted avg       0.99      0.99      0.99      6236\n",
      " samples avg       0.99      0.99      0.99      6236\n",
      "\n"
     ]
    },
    {
     "name": "stderr",
     "output_type": "stream",
     "text": [
      "/opt/conda/lib/python3.7/site-packages/sklearn/metrics/_classification.py:1221: UndefinedMetricWarning: Precision and F-score are ill-defined and being set to 0.0 in samples with no predicted labels. Use `zero_division` parameter to control this behavior.\n",
      "  _warn_prf(average, modifier, msg_start, len(result))\n"
     ]
    }
   ],
   "source": [
    "print('Validation set ROC AUC %.4f' % roc_auc_score(y_validation, validation_pred))\n",
    "print(classification_report(y_validation, np.round(validation_pred)))\n",
    "# print(classification_report(y_validation,  np.round(validation_pred)))"
   ]
  },
  {
   "cell_type": "markdown",
   "id": "1bcfa65e",
   "metadata": {
    "id": "LtX-2S04iD8-",
    "papermill": {
     "duration": 2.164542,
     "end_time": "2022-11-19T21:14:49.656880",
     "exception": false,
     "start_time": "2022-11-19T21:14:47.492338",
     "status": "completed"
    },
    "tags": []
   },
   "source": [
    "##### Сохраняем модель"
   ]
  },
  {
   "cell_type": "code",
   "execution_count": 44,
   "id": "c6f7ce24",
   "metadata": {
    "execution": {
     "iopub.execute_input": "2022-11-19T21:14:54.075460Z",
     "iopub.status.busy": "2022-11-19T21:14:54.074658Z",
     "iopub.status.idle": "2022-11-19T21:14:54.077804Z",
     "shell.execute_reply": "2022-11-19T21:14:54.078594Z"
    },
    "id": "D9aGAF0CiD8-",
    "outputId": "60d39b26-0d6d-47c0-a866-3e0d14851106",
    "papermill": {
     "duration": 2.209876,
     "end_time": "2022-11-19T21:14:54.078842",
     "exception": false,
     "start_time": "2022-11-19T21:14:51.868966",
     "status": "completed"
    },
    "tags": []
   },
   "outputs": [],
   "source": [
    "# model.save_pretrained(\"./data/mbert_model_12\")"
   ]
  }
 ],
 "metadata": {
  "kernelspec": {
   "display_name": "Python 3",
   "language": "python",
   "name": "python3"
  },
  "language_info": {
   "codemirror_mode": {
    "name": "ipython",
    "version": 3
   },
   "file_extension": ".py",
   "mimetype": "text/x-python",
   "name": "python",
   "nbconvert_exporter": "python",
   "pygments_lexer": "ipython3",
   "version": "3.7.10"
  },
  "papermill": {
   "default_parameters": {},
   "duration": 6703.219496,
   "end_time": "2022-11-19T21:14:59.790376",
   "environment_variables": {},
   "exception": null,
   "input_path": "__notebook__.ipynb",
   "output_path": "__notebook__.ipynb",
   "parameters": {},
   "start_time": "2022-11-19T19:23:16.570880",
   "version": "2.3.3"
  },
  "widgets": {
   "application/vnd.jupyter.widget-state+json": {
    "state": {
     "0f62c98004be42b8b8bd537f1cb72a12": {
      "model_module": "@jupyter-widgets/base",
      "model_module_version": "1.2.0",
      "model_name": "LayoutModel",
      "state": {
       "_model_module": "@jupyter-widgets/base",
       "_model_module_version": "1.2.0",
       "_model_name": "LayoutModel",
       "_view_count": null,
       "_view_module": "@jupyter-widgets/base",
       "_view_module_version": "1.2.0",
       "_view_name": "LayoutView",
       "align_content": null,
       "align_items": null,
       "align_self": null,
       "border": null,
       "bottom": null,
       "display": null,
       "flex": null,
       "flex_flow": null,
       "grid_area": null,
       "grid_auto_columns": null,
       "grid_auto_flow": null,
       "grid_auto_rows": null,
       "grid_column": null,
       "grid_gap": null,
       "grid_row": null,
       "grid_template_areas": null,
       "grid_template_columns": null,
       "grid_template_rows": null,
       "height": null,
       "justify_content": null,
       "justify_items": null,
       "left": null,
       "margin": null,
       "max_height": null,
       "max_width": null,
       "min_height": null,
       "min_width": null,
       "object_fit": null,
       "object_position": null,
       "order": null,
       "overflow": null,
       "overflow_x": null,
       "overflow_y": null,
       "padding": null,
       "right": null,
       "top": null,
       "visibility": null,
       "width": null
      }
     },
     "14daa6085b714e1abc4adc9c41fea265": {
      "model_module": "@jupyter-widgets/controls",
      "model_module_version": "1.5.0",
      "model_name": "DescriptionStyleModel",
      "state": {
       "_model_module": "@jupyter-widgets/controls",
       "_model_module_version": "1.5.0",
       "_model_name": "DescriptionStyleModel",
       "_view_count": null,
       "_view_module": "@jupyter-widgets/base",
       "_view_module_version": "1.2.0",
       "_view_name": "StyleView",
       "description_width": ""
      }
     },
     "196f289d8a7643b9905a4616ad25ac44": {
      "model_module": "@jupyter-widgets/controls",
      "model_module_version": "1.5.0",
      "model_name": "FloatProgressModel",
      "state": {
       "_dom_classes": [],
       "_model_module": "@jupyter-widgets/controls",
       "_model_module_version": "1.5.0",
       "_model_name": "FloatProgressModel",
       "_view_count": null,
       "_view_module": "@jupyter-widgets/controls",
       "_view_module_version": "1.5.0",
       "_view_name": "ProgressView",
       "bar_style": "success",
       "description": "",
       "description_tooltip": null,
       "layout": "IPY_MODEL_51194f68795e48c1b355677d2abe1285",
       "max": 898823.0,
       "min": 0.0,
       "orientation": "horizontal",
       "style": "IPY_MODEL_c1c6627b35cc4dac86821a6ca60c969f",
       "value": 898823.0
      }
     },
     "19e42a81a4b340c0be8be13716404d18": {
      "model_module": "@jupyter-widgets/base",
      "model_module_version": "1.2.0",
      "model_name": "LayoutModel",
      "state": {
       "_model_module": "@jupyter-widgets/base",
       "_model_module_version": "1.2.0",
       "_model_name": "LayoutModel",
       "_view_count": null,
       "_view_module": "@jupyter-widgets/base",
       "_view_module_version": "1.2.0",
       "_view_name": "LayoutView",
       "align_content": null,
       "align_items": null,
       "align_self": null,
       "border": null,
       "bottom": null,
       "display": null,
       "flex": null,
       "flex_flow": null,
       "grid_area": null,
       "grid_auto_columns": null,
       "grid_auto_flow": null,
       "grid_auto_rows": null,
       "grid_column": null,
       "grid_gap": null,
       "grid_row": null,
       "grid_template_areas": null,
       "grid_template_columns": null,
       "grid_template_rows": null,
       "height": null,
       "justify_content": null,
       "justify_items": null,
       "left": null,
       "margin": null,
       "max_height": null,
       "max_width": null,
       "min_height": null,
       "min_width": null,
       "object_fit": null,
       "object_position": null,
       "order": null,
       "overflow": null,
       "overflow_x": null,
       "overflow_y": null,
       "padding": null,
       "right": null,
       "top": null,
       "visibility": null,
       "width": null
      }
     },
     "1c9b86b19f074734b34a069d14ae4d6b": {
      "model_module": "@jupyter-widgets/controls",
      "model_module_version": "1.5.0",
      "model_name": "ProgressStyleModel",
      "state": {
       "_model_module": "@jupyter-widgets/controls",
       "_model_module_version": "1.5.0",
       "_model_name": "ProgressStyleModel",
       "_view_count": null,
       "_view_module": "@jupyter-widgets/base",
       "_view_module_version": "1.2.0",
       "_view_name": "StyleView",
       "bar_color": null,
       "description_width": ""
      }
     },
     "1d607617a0264637acdbadffca61070c": {
      "model_module": "@jupyter-widgets/controls",
      "model_module_version": "1.5.0",
      "model_name": "HTMLModel",
      "state": {
       "_dom_classes": [],
       "_model_module": "@jupyter-widgets/controls",
       "_model_module_version": "1.5.0",
       "_model_name": "HTMLModel",
       "_view_count": null,
       "_view_module": "@jupyter-widgets/controls",
       "_view_module_version": "1.5.0",
       "_view_name": "HTMLView",
       "description": "",
       "description_tooltip": null,
       "layout": "IPY_MODEL_95a26c4d6e7a471c80851e406f2110fc",
       "placeholder": "​",
       "style": "IPY_MODEL_33339fe77f814b17b9ebf3cbe8b6b52b",
       "value": "Downloading: 100%"
      }
     },
     "2026b93cb3f9400183827c9a3f2f9897": {
      "model_module": "@jupyter-widgets/base",
      "model_module_version": "1.2.0",
      "model_name": "LayoutModel",
      "state": {
       "_model_module": "@jupyter-widgets/base",
       "_model_module_version": "1.2.0",
       "_model_name": "LayoutModel",
       "_view_count": null,
       "_view_module": "@jupyter-widgets/base",
       "_view_module_version": "1.2.0",
       "_view_name": "LayoutView",
       "align_content": null,
       "align_items": null,
       "align_self": null,
       "border": null,
       "bottom": null,
       "display": null,
       "flex": null,
       "flex_flow": null,
       "grid_area": null,
       "grid_auto_columns": null,
       "grid_auto_flow": null,
       "grid_auto_rows": null,
       "grid_column": null,
       "grid_gap": null,
       "grid_row": null,
       "grid_template_areas": null,
       "grid_template_columns": null,
       "grid_template_rows": null,
       "height": null,
       "justify_content": null,
       "justify_items": null,
       "left": null,
       "margin": null,
       "max_height": null,
       "max_width": null,
       "min_height": null,
       "min_width": null,
       "object_fit": null,
       "object_position": null,
       "order": null,
       "overflow": null,
       "overflow_x": null,
       "overflow_y": null,
       "padding": null,
       "right": null,
       "top": null,
       "visibility": null,
       "width": null
      }
     },
     "23fdb646617e4dc59363c665a486aa11": {
      "model_module": "@jupyter-widgets/controls",
      "model_module_version": "1.5.0",
      "model_name": "HTMLModel",
      "state": {
       "_dom_classes": [],
       "_model_module": "@jupyter-widgets/controls",
       "_model_module_version": "1.5.0",
       "_model_name": "HTMLModel",
       "_view_count": null,
       "_view_module": "@jupyter-widgets/controls",
       "_view_module_version": "1.5.0",
       "_view_name": "HTMLView",
       "description": "",
       "description_tooltip": null,
       "layout": "IPY_MODEL_867ed3c777d74cc0959cacc6de58cb9c",
       "placeholder": "​",
       "style": "IPY_MODEL_3236decf298b415fa72311121b6c2229",
       "value": " 1.63G/1.63G [01:06&lt;00:00, 26.2MB/s]"
      }
     },
     "2d2d631505e943948e8901545b53568a": {
      "model_module": "@jupyter-widgets/controls",
      "model_module_version": "1.5.0",
      "model_name": "FloatProgressModel",
      "state": {
       "_dom_classes": [],
       "_model_module": "@jupyter-widgets/controls",
       "_model_module_version": "1.5.0",
       "_model_name": "FloatProgressModel",
       "_view_count": null,
       "_view_module": "@jupyter-widgets/controls",
       "_view_module_version": "1.5.0",
       "_view_name": "ProgressView",
       "bar_style": "success",
       "description": "",
       "description_tooltip": null,
       "layout": "IPY_MODEL_5d41c0fe071442d282fe0a61c3ac35bd",
       "max": 482.0,
       "min": 0.0,
       "orientation": "horizontal",
       "style": "IPY_MODEL_525d0b8f1bbf4f639cc0245cea8a5b9d",
       "value": 482.0
      }
     },
     "319f070bb24b4d0aa7bcdec3c40a8a24": {
      "model_module": "@jupyter-widgets/controls",
      "model_module_version": "1.5.0",
      "model_name": "DescriptionStyleModel",
      "state": {
       "_model_module": "@jupyter-widgets/controls",
       "_model_module_version": "1.5.0",
       "_model_name": "DescriptionStyleModel",
       "_view_count": null,
       "_view_module": "@jupyter-widgets/base",
       "_view_module_version": "1.2.0",
       "_view_name": "StyleView",
       "description_width": ""
      }
     },
     "3236decf298b415fa72311121b6c2229": {
      "model_module": "@jupyter-widgets/controls",
      "model_module_version": "1.5.0",
      "model_name": "DescriptionStyleModel",
      "state": {
       "_model_module": "@jupyter-widgets/controls",
       "_model_module_version": "1.5.0",
       "_model_name": "DescriptionStyleModel",
       "_view_count": null,
       "_view_module": "@jupyter-widgets/base",
       "_view_module_version": "1.2.0",
       "_view_name": "StyleView",
       "description_width": ""
      }
     },
     "33339fe77f814b17b9ebf3cbe8b6b52b": {
      "model_module": "@jupyter-widgets/controls",
      "model_module_version": "1.5.0",
      "model_name": "DescriptionStyleModel",
      "state": {
       "_model_module": "@jupyter-widgets/controls",
       "_model_module_version": "1.5.0",
       "_model_name": "DescriptionStyleModel",
       "_view_count": null,
       "_view_module": "@jupyter-widgets/base",
       "_view_module_version": "1.2.0",
       "_view_name": "StyleView",
       "description_width": ""
      }
     },
     "3e44a4c7a06849f4a6f6c993f0ad9fff": {
      "model_module": "@jupyter-widgets/controls",
      "model_module_version": "1.5.0",
      "model_name": "HTMLModel",
      "state": {
       "_dom_classes": [],
       "_model_module": "@jupyter-widgets/controls",
       "_model_module_version": "1.5.0",
       "_model_name": "HTMLModel",
       "_view_count": null,
       "_view_module": "@jupyter-widgets/controls",
       "_view_module_version": "1.5.0",
       "_view_name": "HTMLView",
       "description": "",
       "description_tooltip": null,
       "layout": "IPY_MODEL_0f62c98004be42b8b8bd537f1cb72a12",
       "placeholder": "​",
       "style": "IPY_MODEL_319f070bb24b4d0aa7bcdec3c40a8a24",
       "value": "Downloading: 100%"
      }
     },
     "3f5a27130ef54db9ae0897e8f1b9cda1": {
      "model_module": "@jupyter-widgets/base",
      "model_module_version": "1.2.0",
      "model_name": "LayoutModel",
      "state": {
       "_model_module": "@jupyter-widgets/base",
       "_model_module_version": "1.2.0",
       "_model_name": "LayoutModel",
       "_view_count": null,
       "_view_module": "@jupyter-widgets/base",
       "_view_module_version": "1.2.0",
       "_view_name": "LayoutView",
       "align_content": null,
       "align_items": null,
       "align_self": null,
       "border": null,
       "bottom": null,
       "display": null,
       "flex": null,
       "flex_flow": null,
       "grid_area": null,
       "grid_auto_columns": null,
       "grid_auto_flow": null,
       "grid_auto_rows": null,
       "grid_column": null,
       "grid_gap": null,
       "grid_row": null,
       "grid_template_areas": null,
       "grid_template_columns": null,
       "grid_template_rows": null,
       "height": null,
       "justify_content": null,
       "justify_items": null,
       "left": null,
       "margin": null,
       "max_height": null,
       "max_width": null,
       "min_height": null,
       "min_width": null,
       "object_fit": null,
       "object_position": null,
       "order": null,
       "overflow": null,
       "overflow_x": null,
       "overflow_y": null,
       "padding": null,
       "right": null,
       "top": null,
       "visibility": null,
       "width": null
      }
     },
     "44ddaff3a8aa4ea695c73b0a58de8693": {
      "model_module": "@jupyter-widgets/base",
      "model_module_version": "1.2.0",
      "model_name": "LayoutModel",
      "state": {
       "_model_module": "@jupyter-widgets/base",
       "_model_module_version": "1.2.0",
       "_model_name": "LayoutModel",
       "_view_count": null,
       "_view_module": "@jupyter-widgets/base",
       "_view_module_version": "1.2.0",
       "_view_name": "LayoutView",
       "align_content": null,
       "align_items": null,
       "align_self": null,
       "border": null,
       "bottom": null,
       "display": null,
       "flex": null,
       "flex_flow": null,
       "grid_area": null,
       "grid_auto_columns": null,
       "grid_auto_flow": null,
       "grid_auto_rows": null,
       "grid_column": null,
       "grid_gap": null,
       "grid_row": null,
       "grid_template_areas": null,
       "grid_template_columns": null,
       "grid_template_rows": null,
       "height": null,
       "justify_content": null,
       "justify_items": null,
       "left": null,
       "margin": null,
       "max_height": null,
       "max_width": null,
       "min_height": null,
       "min_width": null,
       "object_fit": null,
       "object_position": null,
       "order": null,
       "overflow": null,
       "overflow_x": null,
       "overflow_y": null,
       "padding": null,
       "right": null,
       "top": null,
       "visibility": null,
       "width": null
      }
     },
     "466db851b2934b89beb5beeb4642eef2": {
      "model_module": "@jupyter-widgets/controls",
      "model_module_version": "1.5.0",
      "model_name": "HBoxModel",
      "state": {
       "_dom_classes": [],
       "_model_module": "@jupyter-widgets/controls",
       "_model_module_version": "1.5.0",
       "_model_name": "HBoxModel",
       "_view_count": null,
       "_view_module": "@jupyter-widgets/controls",
       "_view_module_version": "1.5.0",
       "_view_name": "HBoxView",
       "box_style": "",
       "children": [
        "IPY_MODEL_6c857dcd2373474fb800c3ca7aed84e8",
        "IPY_MODEL_6952ec21250846cd81e547a2e3b3d8ab",
        "IPY_MODEL_23fdb646617e4dc59363c665a486aa11"
       ],
       "layout": "IPY_MODEL_3f5a27130ef54db9ae0897e8f1b9cda1"
      }
     },
     "51194f68795e48c1b355677d2abe1285": {
      "model_module": "@jupyter-widgets/base",
      "model_module_version": "1.2.0",
      "model_name": "LayoutModel",
      "state": {
       "_model_module": "@jupyter-widgets/base",
       "_model_module_version": "1.2.0",
       "_model_name": "LayoutModel",
       "_view_count": null,
       "_view_module": "@jupyter-widgets/base",
       "_view_module_version": "1.2.0",
       "_view_name": "LayoutView",
       "align_content": null,
       "align_items": null,
       "align_self": null,
       "border": null,
       "bottom": null,
       "display": null,
       "flex": null,
       "flex_flow": null,
       "grid_area": null,
       "grid_auto_columns": null,
       "grid_auto_flow": null,
       "grid_auto_rows": null,
       "grid_column": null,
       "grid_gap": null,
       "grid_row": null,
       "grid_template_areas": null,
       "grid_template_columns": null,
       "grid_template_rows": null,
       "height": null,
       "justify_content": null,
       "justify_items": null,
       "left": null,
       "margin": null,
       "max_height": null,
       "max_width": null,
       "min_height": null,
       "min_width": null,
       "object_fit": null,
       "object_position": null,
       "order": null,
       "overflow": null,
       "overflow_x": null,
       "overflow_y": null,
       "padding": null,
       "right": null,
       "top": null,
       "visibility": null,
       "width": null
      }
     },
     "525d0b8f1bbf4f639cc0245cea8a5b9d": {
      "model_module": "@jupyter-widgets/controls",
      "model_module_version": "1.5.0",
      "model_name": "ProgressStyleModel",
      "state": {
       "_model_module": "@jupyter-widgets/controls",
       "_model_module_version": "1.5.0",
       "_model_name": "ProgressStyleModel",
       "_view_count": null,
       "_view_module": "@jupyter-widgets/base",
       "_view_module_version": "1.2.0",
       "_view_name": "StyleView",
       "bar_color": null,
       "description_width": ""
      }
     },
     "57e4ca2d9b8c4101b095cc2fc689f9ea": {
      "model_module": "@jupyter-widgets/base",
      "model_module_version": "1.2.0",
      "model_name": "LayoutModel",
      "state": {
       "_model_module": "@jupyter-widgets/base",
       "_model_module_version": "1.2.0",
       "_model_name": "LayoutModel",
       "_view_count": null,
       "_view_module": "@jupyter-widgets/base",
       "_view_module_version": "1.2.0",
       "_view_name": "LayoutView",
       "align_content": null,
       "align_items": null,
       "align_self": null,
       "border": null,
       "bottom": null,
       "display": null,
       "flex": null,
       "flex_flow": null,
       "grid_area": null,
       "grid_auto_columns": null,
       "grid_auto_flow": null,
       "grid_auto_rows": null,
       "grid_column": null,
       "grid_gap": null,
       "grid_row": null,
       "grid_template_areas": null,
       "grid_template_columns": null,
       "grid_template_rows": null,
       "height": null,
       "justify_content": null,
       "justify_items": null,
       "left": null,
       "margin": null,
       "max_height": null,
       "max_width": null,
       "min_height": null,
       "min_width": null,
       "object_fit": null,
       "object_position": null,
       "order": null,
       "overflow": null,
       "overflow_x": null,
       "overflow_y": null,
       "padding": null,
       "right": null,
       "top": null,
       "visibility": null,
       "width": null
      }
     },
     "5d41c0fe071442d282fe0a61c3ac35bd": {
      "model_module": "@jupyter-widgets/base",
      "model_module_version": "1.2.0",
      "model_name": "LayoutModel",
      "state": {
       "_model_module": "@jupyter-widgets/base",
       "_model_module_version": "1.2.0",
       "_model_name": "LayoutModel",
       "_view_count": null,
       "_view_module": "@jupyter-widgets/base",
       "_view_module_version": "1.2.0",
       "_view_name": "LayoutView",
       "align_content": null,
       "align_items": null,
       "align_self": null,
       "border": null,
       "bottom": null,
       "display": null,
       "flex": null,
       "flex_flow": null,
       "grid_area": null,
       "grid_auto_columns": null,
       "grid_auto_flow": null,
       "grid_auto_rows": null,
       "grid_column": null,
       "grid_gap": null,
       "grid_row": null,
       "grid_template_areas": null,
       "grid_template_columns": null,
       "grid_template_rows": null,
       "height": null,
       "justify_content": null,
       "justify_items": null,
       "left": null,
       "margin": null,
       "max_height": null,
       "max_width": null,
       "min_height": null,
       "min_width": null,
       "object_fit": null,
       "object_position": null,
       "order": null,
       "overflow": null,
       "overflow_x": null,
       "overflow_y": null,
       "padding": null,
       "right": null,
       "top": null,
       "visibility": null,
       "width": null
      }
     },
     "5e9c47c428884c2590da3e1d657ef3a4": {
      "model_module": "@jupyter-widgets/controls",
      "model_module_version": "1.5.0",
      "model_name": "DescriptionStyleModel",
      "state": {
       "_model_module": "@jupyter-widgets/controls",
       "_model_module_version": "1.5.0",
       "_model_name": "DescriptionStyleModel",
       "_view_count": null,
       "_view_module": "@jupyter-widgets/base",
       "_view_module_version": "1.2.0",
       "_view_name": "StyleView",
       "description_width": ""
      }
     },
     "6952ec21250846cd81e547a2e3b3d8ab": {
      "model_module": "@jupyter-widgets/controls",
      "model_module_version": "1.5.0",
      "model_name": "FloatProgressModel",
      "state": {
       "_dom_classes": [],
       "_model_module": "@jupyter-widgets/controls",
       "_model_module_version": "1.5.0",
       "_model_name": "FloatProgressModel",
       "_view_count": null,
       "_view_module": "@jupyter-widgets/controls",
       "_view_module_version": "1.5.0",
       "_view_name": "ProgressView",
       "bar_style": "success",
       "description": "",
       "description_tooltip": null,
       "layout": "IPY_MODEL_57e4ca2d9b8c4101b095cc2fc689f9ea",
       "max": 1634375628.0,
       "min": 0.0,
       "orientation": "horizontal",
       "style": "IPY_MODEL_a0795750e9b84af5bd4cb4db9eb069fa",
       "value": 1634375628.0
      }
     },
     "6c857dcd2373474fb800c3ca7aed84e8": {
      "model_module": "@jupyter-widgets/controls",
      "model_module_version": "1.5.0",
      "model_name": "HTMLModel",
      "state": {
       "_dom_classes": [],
       "_model_module": "@jupyter-widgets/controls",
       "_model_module_version": "1.5.0",
       "_model_name": "HTMLModel",
       "_view_count": null,
       "_view_module": "@jupyter-widgets/controls",
       "_view_module_version": "1.5.0",
       "_view_name": "HTMLView",
       "description": "",
       "description_tooltip": null,
       "layout": "IPY_MODEL_ea17d88e68564f1584e2a42979f7179a",
       "placeholder": "​",
       "style": "IPY_MODEL_14daa6085b714e1abc4adc9c41fea265",
       "value": "Downloading: 100%"
      }
     },
     "8107d43c772f42a89d74e25bdd6fde9b": {
      "model_module": "@jupyter-widgets/controls",
      "model_module_version": "1.5.0",
      "model_name": "HBoxModel",
      "state": {
       "_dom_classes": [],
       "_model_module": "@jupyter-widgets/controls",
       "_model_module_version": "1.5.0",
       "_model_name": "HBoxModel",
       "_view_count": null,
       "_view_module": "@jupyter-widgets/controls",
       "_view_module_version": "1.5.0",
       "_view_name": "HBoxView",
       "box_style": "",
       "children": [
        "IPY_MODEL_eedb6734c21e49b9b5b3341d39097b41",
        "IPY_MODEL_196f289d8a7643b9905a4616ad25ac44",
        "IPY_MODEL_a422b920087e454c9f4ac5e1035d8b49"
       ],
       "layout": "IPY_MODEL_e7b3170f1dad4bc89a72c93b7775b627"
      }
     },
     "867ed3c777d74cc0959cacc6de58cb9c": {
      "model_module": "@jupyter-widgets/base",
      "model_module_version": "1.2.0",
      "model_name": "LayoutModel",
      "state": {
       "_model_module": "@jupyter-widgets/base",
       "_model_module_version": "1.2.0",
       "_model_name": "LayoutModel",
       "_view_count": null,
       "_view_module": "@jupyter-widgets/base",
       "_view_module_version": "1.2.0",
       "_view_name": "LayoutView",
       "align_content": null,
       "align_items": null,
       "align_self": null,
       "border": null,
       "bottom": null,
       "display": null,
       "flex": null,
       "flex_flow": null,
       "grid_area": null,
       "grid_auto_columns": null,
       "grid_auto_flow": null,
       "grid_auto_rows": null,
       "grid_column": null,
       "grid_gap": null,
       "grid_row": null,
       "grid_template_areas": null,
       "grid_template_columns": null,
       "grid_template_rows": null,
       "height": null,
       "justify_content": null,
       "justify_items": null,
       "left": null,
       "margin": null,
       "max_height": null,
       "max_width": null,
       "min_height": null,
       "min_width": null,
       "object_fit": null,
       "object_position": null,
       "order": null,
       "overflow": null,
       "overflow_x": null,
       "overflow_y": null,
       "padding": null,
       "right": null,
       "top": null,
       "visibility": null,
       "width": null
      }
     },
     "884a06f346ec464dbcc121c1ce7209d7": {
      "model_module": "@jupyter-widgets/controls",
      "model_module_version": "1.5.0",
      "model_name": "HBoxModel",
      "state": {
       "_dom_classes": [],
       "_model_module": "@jupyter-widgets/controls",
       "_model_module_version": "1.5.0",
       "_model_name": "HBoxModel",
       "_view_count": null,
       "_view_module": "@jupyter-widgets/controls",
       "_view_module_version": "1.5.0",
       "_view_name": "HBoxView",
       "box_style": "",
       "children": [
        "IPY_MODEL_3e44a4c7a06849f4a6f6c993f0ad9fff",
        "IPY_MODEL_da6074d1b6634930bc1dd87adfcfcc61",
        "IPY_MODEL_dde0cef9979a4944b6ef2d39a8dd80bc"
       ],
       "layout": "IPY_MODEL_19e42a81a4b340c0be8be13716404d18"
      }
     },
     "8d94682609794c34977670da20d7d2b9": {
      "model_module": "@jupyter-widgets/base",
      "model_module_version": "1.2.0",
      "model_name": "LayoutModel",
      "state": {
       "_model_module": "@jupyter-widgets/base",
       "_model_module_version": "1.2.0",
       "_model_name": "LayoutModel",
       "_view_count": null,
       "_view_module": "@jupyter-widgets/base",
       "_view_module_version": "1.2.0",
       "_view_name": "LayoutView",
       "align_content": null,
       "align_items": null,
       "align_self": null,
       "border": null,
       "bottom": null,
       "display": null,
       "flex": null,
       "flex_flow": null,
       "grid_area": null,
       "grid_auto_columns": null,
       "grid_auto_flow": null,
       "grid_auto_rows": null,
       "grid_column": null,
       "grid_gap": null,
       "grid_row": null,
       "grid_template_areas": null,
       "grid_template_columns": null,
       "grid_template_rows": null,
       "height": null,
       "justify_content": null,
       "justify_items": null,
       "left": null,
       "margin": null,
       "max_height": null,
       "max_width": null,
       "min_height": null,
       "min_width": null,
       "object_fit": null,
       "object_position": null,
       "order": null,
       "overflow": null,
       "overflow_x": null,
       "overflow_y": null,
       "padding": null,
       "right": null,
       "top": null,
       "visibility": null,
       "width": null
      }
     },
     "95a26c4d6e7a471c80851e406f2110fc": {
      "model_module": "@jupyter-widgets/base",
      "model_module_version": "1.2.0",
      "model_name": "LayoutModel",
      "state": {
       "_model_module": "@jupyter-widgets/base",
       "_model_module_version": "1.2.0",
       "_model_name": "LayoutModel",
       "_view_count": null,
       "_view_module": "@jupyter-widgets/base",
       "_view_module_version": "1.2.0",
       "_view_name": "LayoutView",
       "align_content": null,
       "align_items": null,
       "align_self": null,
       "border": null,
       "bottom": null,
       "display": null,
       "flex": null,
       "flex_flow": null,
       "grid_area": null,
       "grid_auto_columns": null,
       "grid_auto_flow": null,
       "grid_auto_rows": null,
       "grid_column": null,
       "grid_gap": null,
       "grid_row": null,
       "grid_template_areas": null,
       "grid_template_columns": null,
       "grid_template_rows": null,
       "height": null,
       "justify_content": null,
       "justify_items": null,
       "left": null,
       "margin": null,
       "max_height": null,
       "max_width": null,
       "min_height": null,
       "min_width": null,
       "object_fit": null,
       "object_position": null,
       "order": null,
       "overflow": null,
       "overflow_x": null,
       "overflow_y": null,
       "padding": null,
       "right": null,
       "top": null,
       "visibility": null,
       "width": null
      }
     },
     "98197f4e92a94f4abb084dd08ec82501": {
      "model_module": "@jupyter-widgets/base",
      "model_module_version": "1.2.0",
      "model_name": "LayoutModel",
      "state": {
       "_model_module": "@jupyter-widgets/base",
       "_model_module_version": "1.2.0",
       "_model_name": "LayoutModel",
       "_view_count": null,
       "_view_module": "@jupyter-widgets/base",
       "_view_module_version": "1.2.0",
       "_view_name": "LayoutView",
       "align_content": null,
       "align_items": null,
       "align_self": null,
       "border": null,
       "bottom": null,
       "display": null,
       "flex": null,
       "flex_flow": null,
       "grid_area": null,
       "grid_auto_columns": null,
       "grid_auto_flow": null,
       "grid_auto_rows": null,
       "grid_column": null,
       "grid_gap": null,
       "grid_row": null,
       "grid_template_areas": null,
       "grid_template_columns": null,
       "grid_template_rows": null,
       "height": null,
       "justify_content": null,
       "justify_items": null,
       "left": null,
       "margin": null,
       "max_height": null,
       "max_width": null,
       "min_height": null,
       "min_width": null,
       "object_fit": null,
       "object_position": null,
       "order": null,
       "overflow": null,
       "overflow_x": null,
       "overflow_y": null,
       "padding": null,
       "right": null,
       "top": null,
       "visibility": null,
       "width": null
      }
     },
     "9da8709a5ff8467bba7bd036b5fed433": {
      "model_module": "@jupyter-widgets/base",
      "model_module_version": "1.2.0",
      "model_name": "LayoutModel",
      "state": {
       "_model_module": "@jupyter-widgets/base",
       "_model_module_version": "1.2.0",
       "_model_name": "LayoutModel",
       "_view_count": null,
       "_view_module": "@jupyter-widgets/base",
       "_view_module_version": "1.2.0",
       "_view_name": "LayoutView",
       "align_content": null,
       "align_items": null,
       "align_self": null,
       "border": null,
       "bottom": null,
       "display": null,
       "flex": null,
       "flex_flow": null,
       "grid_area": null,
       "grid_auto_columns": null,
       "grid_auto_flow": null,
       "grid_auto_rows": null,
       "grid_column": null,
       "grid_gap": null,
       "grid_row": null,
       "grid_template_areas": null,
       "grid_template_columns": null,
       "grid_template_rows": null,
       "height": null,
       "justify_content": null,
       "justify_items": null,
       "left": null,
       "margin": null,
       "max_height": null,
       "max_width": null,
       "min_height": null,
       "min_width": null,
       "object_fit": null,
       "object_position": null,
       "order": null,
       "overflow": null,
       "overflow_x": null,
       "overflow_y": null,
       "padding": null,
       "right": null,
       "top": null,
       "visibility": null,
       "width": null
      }
     },
     "a0795750e9b84af5bd4cb4db9eb069fa": {
      "model_module": "@jupyter-widgets/controls",
      "model_module_version": "1.5.0",
      "model_name": "ProgressStyleModel",
      "state": {
       "_model_module": "@jupyter-widgets/controls",
       "_model_module_version": "1.5.0",
       "_model_name": "ProgressStyleModel",
       "_view_count": null,
       "_view_module": "@jupyter-widgets/base",
       "_view_module_version": "1.2.0",
       "_view_name": "StyleView",
       "bar_color": null,
       "description_width": ""
      }
     },
     "a18e0a4da4144b56b0cc34d24490446c": {
      "model_module": "@jupyter-widgets/base",
      "model_module_version": "1.2.0",
      "model_name": "LayoutModel",
      "state": {
       "_model_module": "@jupyter-widgets/base",
       "_model_module_version": "1.2.0",
       "_model_name": "LayoutModel",
       "_view_count": null,
       "_view_module": "@jupyter-widgets/base",
       "_view_module_version": "1.2.0",
       "_view_name": "LayoutView",
       "align_content": null,
       "align_items": null,
       "align_self": null,
       "border": null,
       "bottom": null,
       "display": null,
       "flex": null,
       "flex_flow": null,
       "grid_area": null,
       "grid_auto_columns": null,
       "grid_auto_flow": null,
       "grid_auto_rows": null,
       "grid_column": null,
       "grid_gap": null,
       "grid_row": null,
       "grid_template_areas": null,
       "grid_template_columns": null,
       "grid_template_rows": null,
       "height": null,
       "justify_content": null,
       "justify_items": null,
       "left": null,
       "margin": null,
       "max_height": null,
       "max_width": null,
       "min_height": null,
       "min_width": null,
       "object_fit": null,
       "object_position": null,
       "order": null,
       "overflow": null,
       "overflow_x": null,
       "overflow_y": null,
       "padding": null,
       "right": null,
       "top": null,
       "visibility": null,
       "width": null
      }
     },
     "a422b920087e454c9f4ac5e1035d8b49": {
      "model_module": "@jupyter-widgets/controls",
      "model_module_version": "1.5.0",
      "model_name": "HTMLModel",
      "state": {
       "_dom_classes": [],
       "_model_module": "@jupyter-widgets/controls",
       "_model_module_version": "1.5.0",
       "_model_name": "HTMLModel",
       "_view_count": null,
       "_view_module": "@jupyter-widgets/controls",
       "_view_module_version": "1.5.0",
       "_view_name": "HTMLView",
       "description": "",
       "description_tooltip": null,
       "layout": "IPY_MODEL_a18e0a4da4144b56b0cc34d24490446c",
       "placeholder": "​",
       "style": "IPY_MODEL_e78801ed27b24868901caa5e66ecadc5",
       "value": " 899k/899k [00:00&lt;00:00, 1.38MB/s]"
      }
     },
     "ab41b2893f9f4c50a05c8f5e9a45c4f5": {
      "model_module": "@jupyter-widgets/controls",
      "model_module_version": "1.5.0",
      "model_name": "HTMLModel",
      "state": {
       "_dom_classes": [],
       "_model_module": "@jupyter-widgets/controls",
       "_model_module_version": "1.5.0",
       "_model_name": "HTMLModel",
       "_view_count": null,
       "_view_module": "@jupyter-widgets/controls",
       "_view_module_version": "1.5.0",
       "_view_name": "HTMLView",
       "description": "",
       "description_tooltip": null,
       "layout": "IPY_MODEL_e3f21ed9df3f427aa07ddaa25e0c91b4",
       "placeholder": "​",
       "style": "IPY_MODEL_ed27fac8a3e646709518aac9199f6f11",
       "value": " 482/482 [00:00&lt;00:00, 15.0kB/s]"
      }
     },
     "ae415eeef4194f9eba46767c9e357ec7": {
      "model_module": "@jupyter-widgets/controls",
      "model_module_version": "1.5.0",
      "model_name": "HBoxModel",
      "state": {
       "_dom_classes": [],
       "_model_module": "@jupyter-widgets/controls",
       "_model_module_version": "1.5.0",
       "_model_name": "HBoxModel",
       "_view_count": null,
       "_view_module": "@jupyter-widgets/controls",
       "_view_module_version": "1.5.0",
       "_view_name": "HBoxView",
       "box_style": "",
       "children": [
        "IPY_MODEL_b0acb379931f45bc939ca7ff8b2a7e63",
        "IPY_MODEL_2d2d631505e943948e8901545b53568a",
        "IPY_MODEL_ab41b2893f9f4c50a05c8f5e9a45c4f5"
       ],
       "layout": "IPY_MODEL_b94e943b2b2c499290f7aac1a6b52013"
      }
     },
     "b0acb379931f45bc939ca7ff8b2a7e63": {
      "model_module": "@jupyter-widgets/controls",
      "model_module_version": "1.5.0",
      "model_name": "HTMLModel",
      "state": {
       "_dom_classes": [],
       "_model_module": "@jupyter-widgets/controls",
       "_model_module_version": "1.5.0",
       "_model_name": "HTMLModel",
       "_view_count": null,
       "_view_module": "@jupyter-widgets/controls",
       "_view_module_version": "1.5.0",
       "_view_name": "HTMLView",
       "description": "",
       "description_tooltip": null,
       "layout": "IPY_MODEL_ed93cb90f5804c6594bac44406e6cf99",
       "placeholder": "​",
       "style": "IPY_MODEL_5e9c47c428884c2590da3e1d657ef3a4",
       "value": "Downloading: 100%"
      }
     },
     "b151a78b4c904e66877b51c77ba39d61": {
      "model_module": "@jupyter-widgets/controls",
      "model_module_version": "1.5.0",
      "model_name": "FloatProgressModel",
      "state": {
       "_dom_classes": [],
       "_model_module": "@jupyter-widgets/controls",
       "_model_module_version": "1.5.0",
       "_model_name": "FloatProgressModel",
       "_view_count": null,
       "_view_module": "@jupyter-widgets/controls",
       "_view_module_version": "1.5.0",
       "_view_name": "ProgressView",
       "bar_style": "success",
       "description": "",
       "description_tooltip": null,
       "layout": "IPY_MODEL_ded3672252594560beed904e8fbc9b49",
       "max": 456318.0,
       "min": 0.0,
       "orientation": "horizontal",
       "style": "IPY_MODEL_f271a090eb994914ad8e09014d22df93",
       "value": 456318.0
      }
     },
     "b94e943b2b2c499290f7aac1a6b52013": {
      "model_module": "@jupyter-widgets/base",
      "model_module_version": "1.2.0",
      "model_name": "LayoutModel",
      "state": {
       "_model_module": "@jupyter-widgets/base",
       "_model_module_version": "1.2.0",
       "_model_name": "LayoutModel",
       "_view_count": null,
       "_view_module": "@jupyter-widgets/base",
       "_view_module_version": "1.2.0",
       "_view_name": "LayoutView",
       "align_content": null,
       "align_items": null,
       "align_self": null,
       "border": null,
       "bottom": null,
       "display": null,
       "flex": null,
       "flex_flow": null,
       "grid_area": null,
       "grid_auto_columns": null,
       "grid_auto_flow": null,
       "grid_auto_rows": null,
       "grid_column": null,
       "grid_gap": null,
       "grid_row": null,
       "grid_template_areas": null,
       "grid_template_columns": null,
       "grid_template_rows": null,
       "height": null,
       "justify_content": null,
       "justify_items": null,
       "left": null,
       "margin": null,
       "max_height": null,
       "max_width": null,
       "min_height": null,
       "min_width": null,
       "object_fit": null,
       "object_position": null,
       "order": null,
       "overflow": null,
       "overflow_x": null,
       "overflow_y": null,
       "padding": null,
       "right": null,
       "top": null,
       "visibility": null,
       "width": null
      }
     },
     "b9a79f38a3b3450ba06d5e3d4c303300": {
      "model_module": "@jupyter-widgets/controls",
      "model_module_version": "1.5.0",
      "model_name": "HTMLModel",
      "state": {
       "_dom_classes": [],
       "_model_module": "@jupyter-widgets/controls",
       "_model_module_version": "1.5.0",
       "_model_name": "HTMLModel",
       "_view_count": null,
       "_view_module": "@jupyter-widgets/controls",
       "_view_module_version": "1.5.0",
       "_view_name": "HTMLView",
       "description": "",
       "description_tooltip": null,
       "layout": "IPY_MODEL_98197f4e92a94f4abb084dd08ec82501",
       "placeholder": "​",
       "style": "IPY_MODEL_d406f1aedef54698a677abf6e7fc45fc",
       "value": " 456k/456k [00:00&lt;00:00, 975kB/s]"
      }
     },
     "c1c6627b35cc4dac86821a6ca60c969f": {
      "model_module": "@jupyter-widgets/controls",
      "model_module_version": "1.5.0",
      "model_name": "ProgressStyleModel",
      "state": {
       "_model_module": "@jupyter-widgets/controls",
       "_model_module_version": "1.5.0",
       "_model_name": "ProgressStyleModel",
       "_view_count": null,
       "_view_module": "@jupyter-widgets/base",
       "_view_module_version": "1.2.0",
       "_view_name": "StyleView",
       "bar_color": null,
       "description_width": ""
      }
     },
     "d406f1aedef54698a677abf6e7fc45fc": {
      "model_module": "@jupyter-widgets/controls",
      "model_module_version": "1.5.0",
      "model_name": "DescriptionStyleModel",
      "state": {
       "_model_module": "@jupyter-widgets/controls",
       "_model_module_version": "1.5.0",
       "_model_name": "DescriptionStyleModel",
       "_view_count": null,
       "_view_module": "@jupyter-widgets/base",
       "_view_module_version": "1.2.0",
       "_view_name": "StyleView",
       "description_width": ""
      }
     },
     "da6074d1b6634930bc1dd87adfcfcc61": {
      "model_module": "@jupyter-widgets/controls",
      "model_module_version": "1.5.0",
      "model_name": "FloatProgressModel",
      "state": {
       "_dom_classes": [],
       "_model_module": "@jupyter-widgets/controls",
       "_model_module_version": "1.5.0",
       "_model_name": "FloatProgressModel",
       "_view_count": null,
       "_view_module": "@jupyter-widgets/controls",
       "_view_module_version": "1.5.0",
       "_view_name": "ProgressView",
       "bar_style": "success",
       "description": "",
       "description_tooltip": null,
       "layout": "IPY_MODEL_8d94682609794c34977670da20d7d2b9",
       "max": 1355863.0,
       "min": 0.0,
       "orientation": "horizontal",
       "style": "IPY_MODEL_1c9b86b19f074734b34a069d14ae4d6b",
       "value": 1355863.0
      }
     },
     "dde0cef9979a4944b6ef2d39a8dd80bc": {
      "model_module": "@jupyter-widgets/controls",
      "model_module_version": "1.5.0",
      "model_name": "HTMLModel",
      "state": {
       "_dom_classes": [],
       "_model_module": "@jupyter-widgets/controls",
       "_model_module_version": "1.5.0",
       "_model_name": "HTMLModel",
       "_view_count": null,
       "_view_module": "@jupyter-widgets/controls",
       "_view_module_version": "1.5.0",
       "_view_name": "HTMLView",
       "description": "",
       "description_tooltip": null,
       "layout": "IPY_MODEL_9da8709a5ff8467bba7bd036b5fed433",
       "placeholder": "​",
       "style": "IPY_MODEL_e6d4b3d8c2f643449883840cd653ad1f",
       "value": " 1.36M/1.36M [00:00&lt;00:00, 1.56MB/s]"
      }
     },
     "ded3672252594560beed904e8fbc9b49": {
      "model_module": "@jupyter-widgets/base",
      "model_module_version": "1.2.0",
      "model_name": "LayoutModel",
      "state": {
       "_model_module": "@jupyter-widgets/base",
       "_model_module_version": "1.2.0",
       "_model_name": "LayoutModel",
       "_view_count": null,
       "_view_module": "@jupyter-widgets/base",
       "_view_module_version": "1.2.0",
       "_view_name": "LayoutView",
       "align_content": null,
       "align_items": null,
       "align_self": null,
       "border": null,
       "bottom": null,
       "display": null,
       "flex": null,
       "flex_flow": null,
       "grid_area": null,
       "grid_auto_columns": null,
       "grid_auto_flow": null,
       "grid_auto_rows": null,
       "grid_column": null,
       "grid_gap": null,
       "grid_row": null,
       "grid_template_areas": null,
       "grid_template_columns": null,
       "grid_template_rows": null,
       "height": null,
       "justify_content": null,
       "justify_items": null,
       "left": null,
       "margin": null,
       "max_height": null,
       "max_width": null,
       "min_height": null,
       "min_width": null,
       "object_fit": null,
       "object_position": null,
       "order": null,
       "overflow": null,
       "overflow_x": null,
       "overflow_y": null,
       "padding": null,
       "right": null,
       "top": null,
       "visibility": null,
       "width": null
      }
     },
     "e3f21ed9df3f427aa07ddaa25e0c91b4": {
      "model_module": "@jupyter-widgets/base",
      "model_module_version": "1.2.0",
      "model_name": "LayoutModel",
      "state": {
       "_model_module": "@jupyter-widgets/base",
       "_model_module_version": "1.2.0",
       "_model_name": "LayoutModel",
       "_view_count": null,
       "_view_module": "@jupyter-widgets/base",
       "_view_module_version": "1.2.0",
       "_view_name": "LayoutView",
       "align_content": null,
       "align_items": null,
       "align_self": null,
       "border": null,
       "bottom": null,
       "display": null,
       "flex": null,
       "flex_flow": null,
       "grid_area": null,
       "grid_auto_columns": null,
       "grid_auto_flow": null,
       "grid_auto_rows": null,
       "grid_column": null,
       "grid_gap": null,
       "grid_row": null,
       "grid_template_areas": null,
       "grid_template_columns": null,
       "grid_template_rows": null,
       "height": null,
       "justify_content": null,
       "justify_items": null,
       "left": null,
       "margin": null,
       "max_height": null,
       "max_width": null,
       "min_height": null,
       "min_width": null,
       "object_fit": null,
       "object_position": null,
       "order": null,
       "overflow": null,
       "overflow_x": null,
       "overflow_y": null,
       "padding": null,
       "right": null,
       "top": null,
       "visibility": null,
       "width": null
      }
     },
     "e6d4b3d8c2f643449883840cd653ad1f": {
      "model_module": "@jupyter-widgets/controls",
      "model_module_version": "1.5.0",
      "model_name": "DescriptionStyleModel",
      "state": {
       "_model_module": "@jupyter-widgets/controls",
       "_model_module_version": "1.5.0",
       "_model_name": "DescriptionStyleModel",
       "_view_count": null,
       "_view_module": "@jupyter-widgets/base",
       "_view_module_version": "1.2.0",
       "_view_name": "StyleView",
       "description_width": ""
      }
     },
     "e78801ed27b24868901caa5e66ecadc5": {
      "model_module": "@jupyter-widgets/controls",
      "model_module_version": "1.5.0",
      "model_name": "DescriptionStyleModel",
      "state": {
       "_model_module": "@jupyter-widgets/controls",
       "_model_module_version": "1.5.0",
       "_model_name": "DescriptionStyleModel",
       "_view_count": null,
       "_view_module": "@jupyter-widgets/base",
       "_view_module_version": "1.2.0",
       "_view_name": "StyleView",
       "description_width": ""
      }
     },
     "e7b3170f1dad4bc89a72c93b7775b627": {
      "model_module": "@jupyter-widgets/base",
      "model_module_version": "1.2.0",
      "model_name": "LayoutModel",
      "state": {
       "_model_module": "@jupyter-widgets/base",
       "_model_module_version": "1.2.0",
       "_model_name": "LayoutModel",
       "_view_count": null,
       "_view_module": "@jupyter-widgets/base",
       "_view_module_version": "1.2.0",
       "_view_name": "LayoutView",
       "align_content": null,
       "align_items": null,
       "align_self": null,
       "border": null,
       "bottom": null,
       "display": null,
       "flex": null,
       "flex_flow": null,
       "grid_area": null,
       "grid_auto_columns": null,
       "grid_auto_flow": null,
       "grid_auto_rows": null,
       "grid_column": null,
       "grid_gap": null,
       "grid_row": null,
       "grid_template_areas": null,
       "grid_template_columns": null,
       "grid_template_rows": null,
       "height": null,
       "justify_content": null,
       "justify_items": null,
       "left": null,
       "margin": null,
       "max_height": null,
       "max_width": null,
       "min_height": null,
       "min_width": null,
       "object_fit": null,
       "object_position": null,
       "order": null,
       "overflow": null,
       "overflow_x": null,
       "overflow_y": null,
       "padding": null,
       "right": null,
       "top": null,
       "visibility": null,
       "width": null
      }
     },
     "ea17d88e68564f1584e2a42979f7179a": {
      "model_module": "@jupyter-widgets/base",
      "model_module_version": "1.2.0",
      "model_name": "LayoutModel",
      "state": {
       "_model_module": "@jupyter-widgets/base",
       "_model_module_version": "1.2.0",
       "_model_name": "LayoutModel",
       "_view_count": null,
       "_view_module": "@jupyter-widgets/base",
       "_view_module_version": "1.2.0",
       "_view_name": "LayoutView",
       "align_content": null,
       "align_items": null,
       "align_self": null,
       "border": null,
       "bottom": null,
       "display": null,
       "flex": null,
       "flex_flow": null,
       "grid_area": null,
       "grid_auto_columns": null,
       "grid_auto_flow": null,
       "grid_auto_rows": null,
       "grid_column": null,
       "grid_gap": null,
       "grid_row": null,
       "grid_template_areas": null,
       "grid_template_columns": null,
       "grid_template_rows": null,
       "height": null,
       "justify_content": null,
       "justify_items": null,
       "left": null,
       "margin": null,
       "max_height": null,
       "max_width": null,
       "min_height": null,
       "min_width": null,
       "object_fit": null,
       "object_position": null,
       "order": null,
       "overflow": null,
       "overflow_x": null,
       "overflow_y": null,
       "padding": null,
       "right": null,
       "top": null,
       "visibility": null,
       "width": null
      }
     },
     "ed27fac8a3e646709518aac9199f6f11": {
      "model_module": "@jupyter-widgets/controls",
      "model_module_version": "1.5.0",
      "model_name": "DescriptionStyleModel",
      "state": {
       "_model_module": "@jupyter-widgets/controls",
       "_model_module_version": "1.5.0",
       "_model_name": "DescriptionStyleModel",
       "_view_count": null,
       "_view_module": "@jupyter-widgets/base",
       "_view_module_version": "1.2.0",
       "_view_name": "StyleView",
       "description_width": ""
      }
     },
     "ed93cb90f5804c6594bac44406e6cf99": {
      "model_module": "@jupyter-widgets/base",
      "model_module_version": "1.2.0",
      "model_name": "LayoutModel",
      "state": {
       "_model_module": "@jupyter-widgets/base",
       "_model_module_version": "1.2.0",
       "_model_name": "LayoutModel",
       "_view_count": null,
       "_view_module": "@jupyter-widgets/base",
       "_view_module_version": "1.2.0",
       "_view_name": "LayoutView",
       "align_content": null,
       "align_items": null,
       "align_self": null,
       "border": null,
       "bottom": null,
       "display": null,
       "flex": null,
       "flex_flow": null,
       "grid_area": null,
       "grid_auto_columns": null,
       "grid_auto_flow": null,
       "grid_auto_rows": null,
       "grid_column": null,
       "grid_gap": null,
       "grid_row": null,
       "grid_template_areas": null,
       "grid_template_columns": null,
       "grid_template_rows": null,
       "height": null,
       "justify_content": null,
       "justify_items": null,
       "left": null,
       "margin": null,
       "max_height": null,
       "max_width": null,
       "min_height": null,
       "min_width": null,
       "object_fit": null,
       "object_position": null,
       "order": null,
       "overflow": null,
       "overflow_x": null,
       "overflow_y": null,
       "padding": null,
       "right": null,
       "top": null,
       "visibility": null,
       "width": null
      }
     },
     "eedb6734c21e49b9b5b3341d39097b41": {
      "model_module": "@jupyter-widgets/controls",
      "model_module_version": "1.5.0",
      "model_name": "HTMLModel",
      "state": {
       "_dom_classes": [],
       "_model_module": "@jupyter-widgets/controls",
       "_model_module_version": "1.5.0",
       "_model_name": "HTMLModel",
       "_view_count": null,
       "_view_module": "@jupyter-widgets/controls",
       "_view_module_version": "1.5.0",
       "_view_name": "HTMLView",
       "description": "",
       "description_tooltip": null,
       "layout": "IPY_MODEL_44ddaff3a8aa4ea695c73b0a58de8693",
       "placeholder": "​",
       "style": "IPY_MODEL_feac37028c454b8fb4918d7986bca9f4",
       "value": "Downloading: 100%"
      }
     },
     "f271a090eb994914ad8e09014d22df93": {
      "model_module": "@jupyter-widgets/controls",
      "model_module_version": "1.5.0",
      "model_name": "ProgressStyleModel",
      "state": {
       "_model_module": "@jupyter-widgets/controls",
       "_model_module_version": "1.5.0",
       "_model_name": "ProgressStyleModel",
       "_view_count": null,
       "_view_module": "@jupyter-widgets/base",
       "_view_module_version": "1.2.0",
       "_view_name": "StyleView",
       "bar_color": null,
       "description_width": ""
      }
     },
     "fa147e81762e44e0b23c5ed9a6fba8dd": {
      "model_module": "@jupyter-widgets/controls",
      "model_module_version": "1.5.0",
      "model_name": "HBoxModel",
      "state": {
       "_dom_classes": [],
       "_model_module": "@jupyter-widgets/controls",
       "_model_module_version": "1.5.0",
       "_model_name": "HBoxModel",
       "_view_count": null,
       "_view_module": "@jupyter-widgets/controls",
       "_view_module_version": "1.5.0",
       "_view_name": "HBoxView",
       "box_style": "",
       "children": [
        "IPY_MODEL_1d607617a0264637acdbadffca61070c",
        "IPY_MODEL_b151a78b4c904e66877b51c77ba39d61",
        "IPY_MODEL_b9a79f38a3b3450ba06d5e3d4c303300"
       ],
       "layout": "IPY_MODEL_2026b93cb3f9400183827c9a3f2f9897"
      }
     },
     "feac37028c454b8fb4918d7986bca9f4": {
      "model_module": "@jupyter-widgets/controls",
      "model_module_version": "1.5.0",
      "model_name": "DescriptionStyleModel",
      "state": {
       "_model_module": "@jupyter-widgets/controls",
       "_model_module_version": "1.5.0",
       "_model_name": "DescriptionStyleModel",
       "_view_count": null,
       "_view_module": "@jupyter-widgets/base",
       "_view_module_version": "1.2.0",
       "_view_name": "StyleView",
       "description_width": ""
      }
     }
    },
    "version_major": 2,
    "version_minor": 0
   }
  }
 },
 "nbformat": 4,
 "nbformat_minor": 5
}
